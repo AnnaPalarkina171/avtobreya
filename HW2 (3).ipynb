{
  "nbformat": 4,
  "nbformat_minor": 0,
  "metadata": {
    "kernelspec": {
      "display_name": "Python 3",
      "language": "python",
      "name": "python3"
    },
    "language_info": {
      "codemirror_mode": {
        "name": "ipython",
        "version": 3
      },
      "file_extension": ".py",
      "mimetype": "text/x-python",
      "name": "python",
      "nbconvert_exporter": "python",
      "pygments_lexer": "ipython3",
      "version": "3.8.3"
    },
    "colab": {
      "name": "HW2.ipynb",
      "provenance": [],
      "collapsed_sections": [
        "DqjiQnov0M_d",
        "2XLQYP5nK41B"
      ]
    },
    "accelerator": "GPU"
  },
  "cells": [
    {
      "cell_type": "markdown",
      "metadata": {
        "id": "DqjiQnov0M_d"
      },
      "source": [
        "###  Cell Phone reviews (78,930 reviews)\n",
        "[Вот тут брала корпус](http://snap.stanford.edu/data/amazon/Cell_Phones_&_Accessories.txt.gz)"
      ]
    },
    {
      "cell_type": "code",
      "metadata": {
        "colab": {
          "base_uri": "https://localhost:8080/"
        },
        "id": "BLOiY7qh0M_f",
        "outputId": "d70cb351-2bd1-437e-a3eb-8b4813decccd"
      },
      "source": [
        "!pip install simplejson"
      ],
      "execution_count": 2,
      "outputs": [
        {
          "output_type": "stream",
          "text": [
            "Requirement already satisfied: simplejson in /usr/local/lib/python3.6/dist-packages (3.17.2)\n"
          ],
          "name": "stdout"
        }
      ]
    },
    {
      "cell_type": "code",
      "metadata": {
        "id": "Wepzj3nt0M_q"
      },
      "source": [
        "import gzip\n",
        "import simplejson\n",
        "\n",
        "def parse(filename):\n",
        "  f = gzip.open(filename, 'rt')\n",
        "  entry = {}\n",
        "  for l in f:\n",
        "    l = l.strip()\n",
        "    colonPos = l.find(':')\n",
        "    if colonPos == -1:\n",
        "      yield entry\n",
        "      entry = {}\n",
        "      continue\n",
        "    eName = l[:colonPos]\n",
        "    rest = l[colonPos+2:]\n",
        "    entry[eName] = rest\n",
        "  yield entry\n",
        "\n",
        "\n",
        "data = []\n",
        "for e in parse(\"/content/drive/MyDrive/PROGA/автобрея/HW2/Cell_Phones_&_Accessories.txt.gz\"):\n",
        "    data.append(simplejson.dumps(e))\n"
      ],
      "execution_count": 3,
      "outputs": []
    },
    {
      "cell_type": "code",
      "metadata": {
        "colab": {
          "base_uri": "https://localhost:8080/"
        },
        "id": "oF1RHAV20M_q",
        "outputId": "3f4bda14-e72d-4175-ba31-2ff4bd559760"
      },
      "source": [
        "data = [eval(x) for x in data]\n",
        "type(data[0])"
      ],
      "execution_count": 4,
      "outputs": [
        {
          "output_type": "execute_result",
          "data": {
            "text/plain": [
              "dict"
            ]
          },
          "metadata": {
            "tags": []
          },
          "execution_count": 4
        }
      ]
    },
    {
      "cell_type": "code",
      "metadata": {
        "colab": {
          "base_uri": "https://localhost:8080/"
        },
        "id": "X0Rr-bxR0M_r",
        "outputId": "3b80aed7-0fbc-4b7b-c08e-33340b20f294"
      },
      "source": [
        "data[0]"
      ],
      "execution_count": 5,
      "outputs": [
        {
          "output_type": "execute_result",
          "data": {
            "text/plain": [
              "{'product/price': 'unknown',\n",
              " 'product/productId': 'B000JVER7W',\n",
              " 'product/title': 'Mobile Action MA730 Handset Manager - Bluetooth Data Suite',\n",
              " 'review/helpfulness': '0/0',\n",
              " 'review/profileName': 'A. Igoe',\n",
              " 'review/score': '1.0',\n",
              " 'review/summary': \"Don't buy!\",\n",
              " 'review/text': \"First of all, the company took my money and sent me an email telling me the product was shipped. A week and a half later I received another email telling me that they are sorry, but they don't actually have any of these items, and if I received an email telling me it has shipped, it was a mistake.When I finally got my money back, I went through another company to buy the product and it won't work with my phone, even though it depicts that it will. I have sent numerous emails to the company - I can't actually find a phone number on their website - and I still have not gotten any kind of response. What kind of customer service is that? No one will help me with this problem. My advice - don't waste your money!\",\n",
              " 'review/time': '1233360000',\n",
              " 'review/userId': 'A1RXYH9ROBAKEZ'}"
            ]
          },
          "metadata": {
            "tags": []
          },
          "execution_count": 5
        }
      ]
    },
    {
      "cell_type": "markdown",
      "metadata": {
        "id": "VByRdPsj0M_s"
      },
      "source": [
        "### Способы  найти упоминания товаров в отзывах:\n",
        "\n",
        "1. **Первый способ**\n",
        "\n",
        " Составим  биграммы на основе наименований товаров + воспользуемся stanza для нахождения именованных сущностей. Для второго посмотрим, какие типы он выделяет и возьмем только некоторые, например: \n",
        "- entity: Motorola\ttype: ORG - как раз то, что нам нужно\n",
        "- entity: 12 hours\ttype: TIME - такое нам, очевидно не нужно\n",
        "\n",
        "UPD: как оказалось, stanza хорошо находит сущности в тайтлах продуктов, но не в текстах отзывов. Поэтому вместе с биграммами будем использовать эмбединги spicy.\n",
        "Для фильтрации сущностей по результатам анализа выборки взяли следующие лейблы:\n",
        "- FAC =\tBuildings, airports, highways, bridges, etc. (также выделяет некоторые электронные приборы: a Cell Tower -> FAC)\n",
        "- ORG = Companies, agencies, institutions, etc. (возвращает нам названия фирм - Motorola)\n",
        "- PRODUCT =\tObjects, vehicles, foods, etc.\n",
        "- WORK_OF_ART =\tTitles of books, songs, etc. (находит некоторые наименования товаров: Jabra EarGels -> WORK_OF_ART)\n",
        "- LOC = Non-GPE locations, mountain ranges, bodies of water.(Находит названия товаров, так как часто там используются такие слова : Arctic Cooling -> LOC)\n",
        "- PERSON = People, including fictional. (попробовала найти такие лейблы, получилось, что это очень даже нам подходит, тк людей в отзывах не упоминают, но он возыращает разные названия: Sony Ericsson -> PERSON)\n",
        "\n",
        "Таким образом, у нас получается словарь, созданный объединением двух способов: поиска биграмм, обученныеx на заголовках + тфидф и поиска именнованных сущностей spicy(определенных лейблов) \n",
        "\n",
        "**Достоинства и недостатки:** В отличии от других методов, кроме текстов самих отзывов нужны еще заголовки для создания биграмм (а сами отзывы нужны для поиска именнованных сущностей). Главная проблема в том, что много мусора, несмотря на то, что мы обучали исключительно на заголовках = наименованиях товаров\n",
        "\n",
        "2. **Второй способ:**  Подход на основе правил. Например, можно написать правила с помощью natasha/yargy или другой библиотеки.\n",
        "\n",
        "**Достоинства и недостатки:** Плюс в том, что вывод будет более-менее чистый, без мусора, благодаря четким критериям. Но, к сожалению, составитель правил может не учесть все возможные варианты или сделать их неоптимально, что очень вероятно, если писать правила вручную. С другой стороны, можно легко ограничить выходной результат строгими критериями (если этого требет задача) + здесь можно, например, задействовать правила-шаблоны, опирающиеся на частеречные теги + если нужна определенная последовательность тегов или даже можно учесть какие-либо грамматические категории. То есть такая задача сводится к поиску шаблона - последовательности частеречных тегов и, если нужно, грамматической информации.\n",
        "\n",
        "3. **Третий способ** Подход на основе словаря.\n",
        "\n",
        "**Достоинства и недостатки:** Главный плюс, что словарь можно обновлять. Более того, как и в предыдущем случае, если составлять словарь ручками, то результат получится хороший, так как не будет мусора в найденных объектах. Но проблемы остаются те же, что и с rule-based подходом. Хотя, мне кажется, используя словарь, будет все-таки меньше мусора, так как правила могут захватывать лишнюю информацию, а если у нас составленный вручную словарь, он никак ничего лишнего не найдет. Кажется, что можно безболезненно увеличить словарь, не сильно добавив мусора, с помощью поиска синонимичных вещей (например, как у меня дальше в примере, только взять нужно, конечно, другую модель)\n",
        "\n"
      ]
    },
    {
      "cell_type": "markdown",
      "metadata": {
        "id": "vJBJi43q1aiC"
      },
      "source": [
        "### Реализуем первый способ поиска упоминания товаров в отхывах"
      ]
    },
    {
      "cell_type": "code",
      "metadata": {
        "id": "mq5Hoeff0M_s"
      },
      "source": [
        "!pip install torch==1.7.0\n",
        "!pip install stanza\n",
        "import gensim\n",
        "import pandas as pd\n",
        "from gensim.models import Phrases\n",
        "import stanza\n",
        "stanza.download('en')\n",
        "nlp = stanza.Pipeline(lang='en', processors='tokenize,ner')\n",
        "import nltk\n",
        "from nltk.corpus import stopwords\n",
        "nltk.download('stopwords')  \n",
        "nltk.download('punkt')\n",
        "from string import punctuation\n",
        "import spacy\n",
        "import en_core_web_sm\n",
        "model_sp = en_core_web_sm.load()\n",
        "stopwords = stopwords.words('english')\n",
        "punctuation = punctuation + '„“)('\n",
        "stopwords.append('for')\n",
        "!pip install pymorphy2\n",
        "from pymorphy2 import MorphAnalyzer\n",
        "m = MorphAnalyzer()\n",
        "from nltk.tokenize import RegexpTokenizer\n",
        "tokenizer = RegexpTokenizer(r'\\w+')\n",
        "from tqdm import tqdm"
      ],
      "execution_count": null,
      "outputs": []
    },
    {
      "cell_type": "code",
      "metadata": {
        "colab": {
          "base_uri": "https://localhost:8080/"
        },
        "id": "m6G0q4QkA7G3",
        "outputId": "c10a1108-41a8-43c1-d7ff-f6bc059bb423"
      },
      "source": [
        "reviews = []\n",
        "titles = []\n",
        "for d in data:\n",
        "    try:\n",
        "      reviews.append(d['review/text'])\n",
        "      titles.append(d['product/title'])\n",
        "\n",
        "    except KeyError:\n",
        "        pass\n",
        "len(data), len(reviews), len(titles)"
      ],
      "execution_count": 7,
      "outputs": [
        {
          "output_type": "execute_result",
          "data": {
            "text/plain": [
              "(78931, 78930, 78930)"
            ]
          },
          "metadata": {
            "tags": []
          },
          "execution_count": 7
        }
      ]
    },
    {
      "cell_type": "code",
      "metadata": {
        "id": "CrSkv1M2D_KI"
      },
      "source": [
        "df = pd.DataFrame({'titles':titles, 'reviews':reviews})"
      ],
      "execution_count": 8,
      "outputs": []
    },
    {
      "cell_type": "code",
      "metadata": {
        "colab": {
          "base_uri": "https://localhost:8080/"
        },
        "id": "GX14nLnm-qpX",
        "outputId": "db1777f4-dbea-45e8-9e32-4d3a976bd87b"
      },
      "source": [
        "# токенизируем и лемматизируем тексты + убирам пунктуацию и стоп слова\n",
        "# проблема в том, что лемматизатор возвращает все в нижнем регистре,\n",
        "# попробуем это исправить\n",
        "def normalize(text):\n",
        "  # Take input text and return list of lemmas\n",
        "  lemmas = []\n",
        "  for t in tokenizer.tokenize(text):\n",
        "    if t[0].isupper()== True:\n",
        "      lemmas.append(m.parse(t)[0].normal_form.title())\n",
        "    else:\n",
        "      lemmas.append(m.parse(t)[0].normal_form)\n",
        "  lemmas = [word for word in lemmas if word not in stopwords]\n",
        "  lemmas = [(sentence.translate(str.maketrans('', '', punctuation))) for sentence in lemmas]\n",
        "    \n",
        "  return lemmas\n",
        "\n",
        "normalize_reviews = [normalize(text) for text in tqdm(reviews)]\n",
        "df['normalize_reviews'] = normalize_reviews"
      ],
      "execution_count": 9,
      "outputs": [
        {
          "output_type": "stream",
          "text": [
            "100%|██████████| 78930/78930 [03:23<00:00, 388.51it/s]\n"
          ],
          "name": "stderr"
        }
      ]
    },
    {
      "cell_type": "code",
      "metadata": {
        "colab": {
          "base_uri": "https://localhost:8080/"
        },
        "id": "NrBE9E8CrPU_",
        "outputId": "8de8756d-c03b-450f-fc61-62efebbd5d9f"
      },
      "source": [
        "df.shape"
      ],
      "execution_count": 10,
      "outputs": [
        {
          "output_type": "execute_result",
          "data": {
            "text/plain": [
              "(78930, 3)"
            ]
          },
          "metadata": {
            "tags": []
          },
          "execution_count": 10
        }
      ]
    },
    {
      "cell_type": "code",
      "metadata": {
        "colab": {
          "base_uri": "https://localhost:8080/"
        },
        "id": "zE_rXu5BK4pA",
        "outputId": "2e9411d2-5574-4c45-cfb7-35ee2423256e"
      },
      "source": [
        "# Найдем нужные сущности с помощью spicy\n",
        "def spicy_find(reviews: list):\n",
        "  labels = ['PERSON','LOC','FAC', 'ORG','PRODUCT', 'WORK_OF_ART']\n",
        "  for doc in reviews:\n",
        "    for ent in model_sp(doc).ents:\n",
        "      if ent.label_ in labels:\n",
        "        print(ent.text, '->', ent.label_)\n",
        "spicy_find(reviews[:10])"
      ],
      "execution_count": 11,
      "outputs": [
        {
          "output_type": "stream",
          "text": [
            "S&H -> ORG\n",
            "Sony -> ORG\n",
            "Amazon -> ORG\n",
            "the Phone Monitor Options -> ORG\n",
            "C:\\Program -> ORG\n",
            "Options -> ORG\n",
            "COM -> ORG\n",
            "COM -> ORG\n",
            "USB -> ORG\n",
            "Sony Ericsson K700i -> ORG\n",
            "the USB Data Cable -> ORG\n",
            "MyNetDeals -> PERSON\n",
            "Sony Ericsson -> PERSON\n",
            "rude & -> ORG\n",
            "wallpaper & ringtones -> ORG\n",
            "Sony -> ORG\n",
            "Sony -> ORG\n",
            "Sony Data -> ORG\n",
            "Sony -> ORG\n",
            "Sony -> ORG\n",
            "3rd party -> ORG\n",
            "Sony -> ORG\n",
            "Sony Ericsson -> ORG\n",
            "Sony -> ORG\n",
            "Sony -> ORG\n",
            "Sony Ericsson z500a & watch -> ORG\n",
            "Electro Island -> FAC\n"
          ],
          "name": "stdout"
        }
      ]
    },
    {
      "cell_type": "code",
      "metadata": {
        "id": "ZXASPVQ5SQKi"
      },
      "source": [
        "# датасет слишком большой, так что возьмем только часть\n",
        "# заодно возьмем только уникальные заголовки\n",
        "small_df = pd.DataFrame(columns = df.columns)\n",
        "product_names = []\n",
        "for i, el in enumerate(df.titles):\n",
        "  if el not in product_names:\n",
        "    product_names.append(el)\n",
        "    small_df = small_df.append(df.loc[i])"
      ],
      "execution_count": 12,
      "outputs": []
    },
    {
      "cell_type": "code",
      "metadata": {
        "colab": {
          "base_uri": "https://localhost:8080/"
        },
        "id": "EXryO3MGUYfP",
        "outputId": "b9b82c1c-ce3a-4fa9-e9ac-7d2d2c47e952"
      },
      "source": [
        "small_df.shape"
      ],
      "execution_count": 13,
      "outputs": [
        {
          "output_type": "execute_result",
          "data": {
            "text/plain": [
              "(7150, 3)"
            ]
          },
          "metadata": {
            "tags": []
          },
          "execution_count": 13
        }
      ]
    },
    {
      "cell_type": "code",
      "metadata": {
        "colab": {
          "base_uri": "https://localhost:8080/",
          "height": 195
        },
        "id": "sGqRIgPFUjnA",
        "outputId": "5ca1d086-e2a2-4f66-8ac7-871f6aa24fb9"
      },
      "source": [
        "small_df.head()"
      ],
      "execution_count": 14,
      "outputs": [
        {
          "output_type": "execute_result",
          "data": {
            "text/html": [
              "<div>\n",
              "<style scoped>\n",
              "    .dataframe tbody tr th:only-of-type {\n",
              "        vertical-align: middle;\n",
              "    }\n",
              "\n",
              "    .dataframe tbody tr th {\n",
              "        vertical-align: top;\n",
              "    }\n",
              "\n",
              "    .dataframe thead th {\n",
              "        text-align: right;\n",
              "    }\n",
              "</style>\n",
              "<table border=\"1\" class=\"dataframe\">\n",
              "  <thead>\n",
              "    <tr style=\"text-align: right;\">\n",
              "      <th></th>\n",
              "      <th>titles</th>\n",
              "      <th>reviews</th>\n",
              "      <th>normalize_reviews</th>\n",
              "    </tr>\n",
              "  </thead>\n",
              "  <tbody>\n",
              "    <tr>\n",
              "      <th>0</th>\n",
              "      <td>Mobile Action MA730 Handset Manager - Bluetoot...</td>\n",
              "      <td>First of all, the company took my money and se...</td>\n",
              "      <td>[First, company, took, money, sent, email, tel...</td>\n",
              "    </tr>\n",
              "    <tr>\n",
              "      <th>3</th>\n",
              "      <td>USB Data Cable for Sony-Ericsson Z600, Z500, Z...</td>\n",
              "      <td>The price was right for this cable ($11.95+$4....</td>\n",
              "      <td>[The, price, right, cable, 11, 95, 4, 94, S, H...</td>\n",
              "    </tr>\n",
              "    <tr>\n",
              "      <th>12</th>\n",
              "      <td>Motorola HT820 Stereo Bluetooth Headset with m...</td>\n",
              "      <td>A great device, I use it with a NOKIA 9300 it ...</td>\n",
              "      <td>[A, great, device, I, use, Nokia, 9300, great,...</td>\n",
              "    </tr>\n",
              "    <tr>\n",
              "      <th>17</th>\n",
              "      <td></td>\n",
              "      <td>I would like to buy two or more shells, do you...</td>\n",
              "      <td>[I, would, like, buy, two, shells, offer, diff...</td>\n",
              "    </tr>\n",
              "    <tr>\n",
              "      <th>18</th>\n",
              "      <td>Belkin Executive Leather Case handheld carryin...</td>\n",
              "      <td>This leather cover provides a professional fin...</td>\n",
              "      <td>[This, leather, cover, provides, professional,...</td>\n",
              "    </tr>\n",
              "  </tbody>\n",
              "</table>\n",
              "</div>"
            ],
            "text/plain": [
              "                                               titles  ...                                  normalize_reviews\n",
              "0   Mobile Action MA730 Handset Manager - Bluetoot...  ...  [First, company, took, money, sent, email, tel...\n",
              "3   USB Data Cable for Sony-Ericsson Z600, Z500, Z...  ...  [The, price, right, cable, 11, 95, 4, 94, S, H...\n",
              "12  Motorola HT820 Stereo Bluetooth Headset with m...  ...  [A, great, device, I, use, Nokia, 9300, great,...\n",
              "17                                                     ...  [I, would, like, buy, two, shells, offer, diff...\n",
              "18  Belkin Executive Leather Case handheld carryin...  ...  [This, leather, cover, provides, professional,...\n",
              "\n",
              "[5 rows x 3 columns]"
            ]
          },
          "metadata": {
            "tags": []
          },
          "execution_count": 14
        }
      ]
    },
    {
      "cell_type": "code",
      "metadata": {
        "id": "YNyDclq8o4iB"
      },
      "source": [
        "labels = ['PERSON','LOC','FAC', 'ORG','PRODUCT', 'WORK_OF_ART']\n",
        "entities = []\n",
        "for doc in small_df.reviews:\n",
        "  ents = []\n",
        "  for ent in model_sp(doc).ents:\n",
        "    if ent.label_ in labels:\n",
        "      # print(ent.text)\n",
        "      ents.append(ent.text)\n",
        "  entities.append(ents)\n",
        "small_df['entities_spicy'] = entities"
      ],
      "execution_count": 15,
      "outputs": []
    },
    {
      "cell_type": "code",
      "metadata": {
        "id": "OUlhq0loOmD2",
        "colab": {
          "base_uri": "https://localhost:8080/",
          "height": 575
        },
        "outputId": "39efc14f-85cc-4305-fd4f-df4d9991a025"
      },
      "source": [
        "small_df.head(15)"
      ],
      "execution_count": 16,
      "outputs": [
        {
          "output_type": "execute_result",
          "data": {
            "text/html": [
              "<div>\n",
              "<style scoped>\n",
              "    .dataframe tbody tr th:only-of-type {\n",
              "        vertical-align: middle;\n",
              "    }\n",
              "\n",
              "    .dataframe tbody tr th {\n",
              "        vertical-align: top;\n",
              "    }\n",
              "\n",
              "    .dataframe thead th {\n",
              "        text-align: right;\n",
              "    }\n",
              "</style>\n",
              "<table border=\"1\" class=\"dataframe\">\n",
              "  <thead>\n",
              "    <tr style=\"text-align: right;\">\n",
              "      <th></th>\n",
              "      <th>titles</th>\n",
              "      <th>reviews</th>\n",
              "      <th>normalize_reviews</th>\n",
              "      <th>entities_spicy</th>\n",
              "    </tr>\n",
              "  </thead>\n",
              "  <tbody>\n",
              "    <tr>\n",
              "      <th>0</th>\n",
              "      <td>Mobile Action MA730 Handset Manager - Bluetoot...</td>\n",
              "      <td>First of all, the company took my money and se...</td>\n",
              "      <td>[First, company, took, money, sent, email, tel...</td>\n",
              "      <td>[]</td>\n",
              "    </tr>\n",
              "    <tr>\n",
              "      <th>3</th>\n",
              "      <td>USB Data Cable for Sony-Ericsson Z600, Z500, Z...</td>\n",
              "      <td>The price was right for this cable ($11.95+$4....</td>\n",
              "      <td>[The, price, right, cable, 11, 95, 4, 94, S, H...</td>\n",
              "      <td>[S&amp;H, Sony, Amazon, the Phone Monitor Options,...</td>\n",
              "    </tr>\n",
              "    <tr>\n",
              "      <th>12</th>\n",
              "      <td>Motorola HT820 Stereo Bluetooth Headset with m...</td>\n",
              "      <td>A great device, I use it with a NOKIA 9300 it ...</td>\n",
              "      <td>[A, great, device, I, use, Nokia, 9300, great,...</td>\n",
              "      <td>[NOKIA]</td>\n",
              "    </tr>\n",
              "    <tr>\n",
              "      <th>17</th>\n",
              "      <td></td>\n",
              "      <td>I would like to buy two or more shells, do you...</td>\n",
              "      <td>[I, would, like, buy, two, shells, offer, diff...</td>\n",
              "      <td>[]</td>\n",
              "    </tr>\n",
              "    <tr>\n",
              "      <th>18</th>\n",
              "      <td>Belkin Executive Leather Case handheld carryin...</td>\n",
              "      <td>This leather cover provides a professional fin...</td>\n",
              "      <td>[This, leather, cover, provides, professional,...</td>\n",
              "      <td>[]</td>\n",
              "    </tr>\n",
              "    <tr>\n",
              "      <th>19</th>\n",
              "      <td>Samsung T809 M620 i607 U420 A303 A717 Car Char...</td>\n",
              "      <td>I thought this item was great for the money. I...</td>\n",
              "      <td>[I, thought, item, great, money, If, would, bo...</td>\n",
              "      <td>[Verizon]</td>\n",
              "    </tr>\n",
              "    <tr>\n",
              "      <th>21</th>\n",
              "      <td>For Motorola V9m/ V3/ V3c/ V3i/ V3m/ V3t/ V3v ...</td>\n",
              "      <td>Great case... cingular should get their cases ...</td>\n",
              "      <td>[Great, case, cingular, get, cases, supplier, ...</td>\n",
              "      <td>[]</td>\n",
              "    </tr>\n",
              "    <tr>\n",
              "      <th>22</th>\n",
              "      <td>NEW UNLOCKED SAMSUNG X830 PINK MP3 CAMERA GSM ...</td>\n",
              "      <td>This item came earlier than expected! It is ev...</td>\n",
              "      <td>[This, item, came, earlier, expected, It, ever...</td>\n",
              "      <td>[]</td>\n",
              "    </tr>\n",
              "    <tr>\n",
              "      <th>23</th>\n",
              "      <td>Ericsson Dual Slot Desktop Charger for Ericsso...</td>\n",
              "      <td>I purchased this charger along with the &amp;quot;...</td>\n",
              "      <td>[I, purchased, charger, along, quot, Ericsson,...</td>\n",
              "      <td>[the &amp;quot;Ericsson, LX588, Charger, Ericsson]</td>\n",
              "    </tr>\n",
              "    <tr>\n",
              "      <th>24</th>\n",
              "      <td>Audiovox Leather Carrying Case for Audiovox Ph...</td>\n",
              "      <td>The case I had didn't fit properly - the windo...</td>\n",
              "      <td>[The, case, I, fit, properly, window, obstruct...</td>\n",
              "      <td>[]</td>\n",
              "    </tr>\n",
              "    <tr>\n",
              "      <th>28</th>\n",
              "      <td>Motorola Hands-Free Car Kit for Motorola StarT...</td>\n",
              "      <td>The Motorola StarTAC Hands Free Car kit is out...</td>\n",
              "      <td>[The, Motorola, Startac, Hands, Free, Car, kit...</td>\n",
              "      <td>[Motorola, Hands Free Car, Ford, Lincoln TC]</td>\n",
              "    </tr>\n",
              "    <tr>\n",
              "      <th>30</th>\n",
              "      <td>Jabra EarGels - Clear</td>\n",
              "      <td>If you have had an issue with the Jawbone head...</td>\n",
              "      <td>[If, issue, Jawbone, headset, staying, ear, pu...</td>\n",
              "      <td>[the Jabra EarGel, EarGel, Jawbone, EarGel]</td>\n",
              "    </tr>\n",
              "    <tr>\n",
              "      <th>246</th>\n",
              "      <td>Samsung Hands-Free Car Kit for Samsung SCH850 ...</td>\n",
              "      <td>It sounds great. I didn't think it would sound...</td>\n",
              "      <td>[It, sounds, great, I, think, would, sound, go...</td>\n",
              "      <td>[Unitech]</td>\n",
              "    </tr>\n",
              "    <tr>\n",
              "      <th>248</th>\n",
              "      <td>Nokia Complete Hands-Free Car Kit with Audio H...</td>\n",
              "      <td>This is a must have for anyone that spends a l...</td>\n",
              "      <td>[This, must, anyone, spends, lot, time, vehicl...</td>\n",
              "      <td>[]</td>\n",
              "    </tr>\n",
              "    <tr>\n",
              "      <th>251</th>\n",
              "      <td>Nokia Hands-Free Earbud Headset with Adapter f...</td>\n",
              "      <td>Very good product. Would suggest this to anyon...</td>\n",
              "      <td>[Very, good, product, Would, suggest, anyone, ...</td>\n",
              "      <td>[]</td>\n",
              "    </tr>\n",
              "  </tbody>\n",
              "</table>\n",
              "</div>"
            ],
            "text/plain": [
              "                                                titles  ...                                     entities_spicy\n",
              "0    Mobile Action MA730 Handset Manager - Bluetoot...  ...                                                 []\n",
              "3    USB Data Cable for Sony-Ericsson Z600, Z500, Z...  ...  [S&H, Sony, Amazon, the Phone Monitor Options,...\n",
              "12   Motorola HT820 Stereo Bluetooth Headset with m...  ...                                            [NOKIA]\n",
              "17                                                      ...                                                 []\n",
              "18   Belkin Executive Leather Case handheld carryin...  ...                                                 []\n",
              "19   Samsung T809 M620 i607 U420 A303 A717 Car Char...  ...                                          [Verizon]\n",
              "21   For Motorola V9m/ V3/ V3c/ V3i/ V3m/ V3t/ V3v ...  ...                                                 []\n",
              "22   NEW UNLOCKED SAMSUNG X830 PINK MP3 CAMERA GSM ...  ...                                                 []\n",
              "23   Ericsson Dual Slot Desktop Charger for Ericsso...  ...     [the &quot;Ericsson, LX588, Charger, Ericsson]\n",
              "24   Audiovox Leather Carrying Case for Audiovox Ph...  ...                                                 []\n",
              "28   Motorola Hands-Free Car Kit for Motorola StarT...  ...       [Motorola, Hands Free Car, Ford, Lincoln TC]\n",
              "30                               Jabra EarGels - Clear  ...        [the Jabra EarGel, EarGel, Jawbone, EarGel]\n",
              "246  Samsung Hands-Free Car Kit for Samsung SCH850 ...  ...                                          [Unitech]\n",
              "248  Nokia Complete Hands-Free Car Kit with Audio H...  ...                                                 []\n",
              "251  Nokia Hands-Free Earbud Headset with Adapter f...  ...                                                 []\n",
              "\n",
              "[15 rows x 4 columns]"
            ]
          },
          "metadata": {
            "tags": []
          },
          "execution_count": 16
        }
      ]
    },
    {
      "cell_type": "code",
      "metadata": {
        "id": "lR20BSGfyVeP"
      },
      "source": [
        "# Попробуем найти биграммы заголовков \n",
        "product_names = titles"
      ],
      "execution_count": 17,
      "outputs": []
    },
    {
      "cell_type": "code",
      "metadata": {
        "id": "LITi2JvCyf4N"
      },
      "source": [
        "sentences = [x.split() for x in product_names if x not in stopwords]\n",
        "unigram_sentences = []\n",
        "for text in sentences:\n",
        "    new_text = []\n",
        "    for word in text:\n",
        "        if word not in punctuation:\n",
        "            new_text.append(word)\n",
        "    unigram_sentences.append(new_text)"
      ],
      "execution_count": 18,
      "outputs": []
    },
    {
      "cell_type": "code",
      "metadata": {
        "colab": {
          "base_uri": "https://localhost:8080/"
        },
        "id": "MZVmdVaYyouq",
        "outputId": "3b66b726-fd89-46a4-9b43-20b06499fea3"
      },
      "source": [
        "# to create the bigrams\n",
        "bigram_model = Phrases(unigram_sentences)\n",
        "\n",
        "bigram_sentences = []\n",
        "# apply the trained model to a sentence\n",
        "for unigram_sentence in unigram_sentences:\n",
        "    bigram_sentence = bigram_model[unigram_sentence]\n",
        "    bigram_sentences.append(bigram_sentence)"
      ],
      "execution_count": 19,
      "outputs": [
        {
          "output_type": "stream",
          "text": [
            "/usr/local/lib/python3.6/dist-packages/gensim/models/phrases.py:598: UserWarning: For a faster implementation, use the gensim.models.phrases.Phraser class\n",
            "  warnings.warn(\"For a faster implementation, use the gensim.models.phrases.Phraser class\")\n"
          ],
          "name": "stderr"
        }
      ]
    },
    {
      "cell_type": "code",
      "metadata": {
        "id": "g_2O90TbZZok"
      },
      "source": [
        "text1_tfidf = vectorizer.transform([\" \".join(bigram_sentences[0])])\n",
        "vocab = vectorizer.get_feature_names()\n",
        "tfidf = vectorizer.idf_\n",
        "top = list(sorted(zip(vocab, text1_tfidf.toarray()[0]), key=lambda x: x[1], reverse = True))\n",
        "for x,y in top:\n",
        "  if y > 0.4:\n",
        "    print(x,' -> ', y)"
      ],
      "execution_count": null,
      "outputs": []
    },
    {
      "cell_type": "code",
      "metadata": {
        "colab": {
          "base_uri": "https://localhost:8080/",
          "height": 128
        },
        "id": "jEU96tnCXile",
        "outputId": "a2272195-8174-461a-9182-3d7b324c0b0b"
      },
      "source": [
        "# сделаем словарь из уникальных биграмм\n",
        "bigrams_titles = []\n",
        "for x in bigram_sentences:\n",
        "  for y in x:\n",
        "    if '_' in y:\n",
        "      bigrams_titles.append(y)"
      ],
      "execution_count": 50,
      "outputs": [
        {
          "output_type": "error",
          "ename": "SyntaxError",
          "evalue": "ignored",
          "traceback": [
            "\u001b[0;36m  File \u001b[0;32m\"<ipython-input-50-eeb6db29765a>\"\u001b[0;36m, line \u001b[0;32m7\u001b[0m\n\u001b[0;31m    if bigram not in bigrams_titles:\u001b[0m\n\u001b[0m                                   ^\u001b[0m\n\u001b[0;31mSyntaxError\u001b[0m\u001b[0;31m:\u001b[0m invalid syntax\n"
          ]
        }
      ]
    },
    {
      "cell_type": "code",
      "metadata": {
        "colab": {
          "base_uri": "https://localhost:8080/"
        },
        "id": "xjF55TiZYeCU",
        "outputId": "b1029fbc-f4a2-4924-9e3a-d7eb5c44d853"
      },
      "source": [
        "bigrams_titles_uniq = list(set(bigrams_titles))\n",
        "print(bigrams_titles_uniq[:10])\n",
        "len(bigrams_titles_uniq)"
      ],
      "execution_count": 52,
      "outputs": [
        {
          "output_type": "stream",
          "text": [
            "['(Black color', 'BlueAnt X5', 'T-MOBILE GSM', 'T809, D807,', 'Pro Duo', 'L7e L7i', 'SNN5760A BATTERY', 'C1300 CE500', 'CTA Digital', 'C1500 C2000']\n"
          ],
          "name": "stdout"
        },
        {
          "output_type": "execute_result",
          "data": {
            "text/plain": [
              "4326"
            ]
          },
          "metadata": {
            "tags": []
          },
          "execution_count": 52
        }
      ]
    },
    {
      "cell_type": "code",
      "metadata": {
        "colab": {
          "base_uri": "https://localhost:8080/"
        },
        "id": "i9z2QvDuYhgs",
        "outputId": "980dfbb1-067e-4612-befd-ac0e70f5ea6c"
      },
      "source": [
        "texts = list(small_df.normalize_reviews)\n",
        "for text in texts[:50]:\n",
        "  for bi in bigrams_titles_uniq:\n",
        "    if bi in ' '.join(text):\n",
        "      print(bi)"
      ],
      "execution_count": 55,
      "outputs": [
        {
          "output_type": "stream",
          "text": [
            "Hands Free\n",
            "hands free\n",
            "cell phone\n",
            "hands free\n",
            "data cable\n",
            "cell phone\n",
            "phone cover\n",
            "cell phone\n",
            "cell phone\n",
            "cell phone\n",
            "hands free\n",
            "cell phone\n"
          ],
          "name": "stdout"
        }
      ]
    },
    {
      "cell_type": "code",
      "metadata": {
        "id": "xiuSfMFycdpT"
      },
      "source": [
        "vocavb_bi = []\n",
        "for text in texts:\n",
        "  each = []\n",
        "  for bi in bigrams_titles_uniq:\n",
        "    if bi in ' '.join(text):\n",
        "      each.append(bi)\n",
        "  vocavb_bi.append(each)"
      ],
      "execution_count": 57,
      "outputs": []
    },
    {
      "cell_type": "code",
      "metadata": {
        "colab": {
          "base_uri": "https://localhost:8080/"
        },
        "id": "qFKdTQuAy7n2",
        "outputId": "6fac0de6-014c-41c0-eb24-f6fcd197e538"
      },
      "source": [
        "bigrams_reviews = []\n",
        "texts = list(small_df.normalize_reviews)\n",
        "for text in texts:\n",
        "  bigrams_reviews.append(bigram_model[text])"
      ],
      "execution_count": 20,
      "outputs": [
        {
          "output_type": "stream",
          "text": [
            "/usr/local/lib/python3.6/dist-packages/gensim/models/phrases.py:598: UserWarning: For a faster implementation, use the gensim.models.phrases.Phraser class\n",
            "  warnings.warn(\"For a faster implementation, use the gensim.models.phrases.Phraser class\")\n"
          ],
          "name": "stderr"
        }
      ]
    },
    {
      "cell_type": "code",
      "metadata": {
        "colab": {
          "base_uri": "https://localhost:8080/"
        },
        "id": "WRW6kY62zO7b",
        "outputId": "9ce80557-462a-4dee-eb9b-6a9413c3d61b"
      },
      "source": [
        "from sklearn.feature_extraction.text import TfidfVectorizer\n",
        "vectorizer = TfidfVectorizer()\n",
        "\n",
        "tfidf_matrix = vectorizer.fit_transform(\" \".join(t) for t in bigram_sentences)\n",
        "tfidf_matrix.toarray()"
      ],
      "execution_count": 21,
      "outputs": [
        {
          "output_type": "execute_result",
          "data": {
            "text/plain": [
              "array([[0., 0., 0., ..., 0., 0., 0.],\n",
              "       [0., 0., 0., ..., 0., 0., 0.],\n",
              "       [0., 0., 0., ..., 0., 0., 0.],\n",
              "       ...,\n",
              "       [0., 0., 0., ..., 0., 0., 0.],\n",
              "       [0., 0., 0., ..., 0., 0., 0.],\n",
              "       [0., 0., 0., ..., 0., 0., 0.]])"
            ]
          },
          "metadata": {
            "tags": []
          },
          "execution_count": 21
        }
      ]
    },
    {
      "cell_type": "code",
      "metadata": {
        "id": "eX5YMl1pG0wz"
      },
      "source": [
        "bigram_idf = []\n",
        "for text in bigrams_reviews:\n",
        "  tf = []\n",
        "  text1_tfidf = vectorizer.transform([\" \".join(text)])\n",
        "  vocab = vectorizer.get_feature_names()\n",
        "  tfidf = vectorizer.idf_\n",
        "  top = list(sorted(zip(vocab, text1_tfidf.toarray()[0]), key=lambda x: x[1], reverse = True))\n",
        "  for x,y in top:\n",
        "    if y > 0.4:\n",
        "      tf.append(x)\n",
        "  bigram_idf.append(tf)"
      ],
      "execution_count": 59,
      "outputs": []
    },
    {
      "cell_type": "code",
      "metadata": {
        "colab": {
          "base_uri": "https://localhost:8080/"
        },
        "id": "l4OZG_gWHP_B",
        "outputId": "8c576199-a6d7-4ac2-8848-af46ad0f42d7"
      },
      "source": [
        "# если честно, выглядит такое себе, не понимаю, в чем проблема\n",
        "bigram_idf[:15]"
      ],
      "execution_count": 60,
      "outputs": [
        {
          "output_type": "execute_result",
          "data": {
            "text/plain": [
              "[['email', 'sent', 'product'],\n",
              " [],\n",
              " ['great', 'hear'],\n",
              " ['two', 'pay', 'buy', 'choose'],\n",
              " ['computer'],\n",
              " ['item', 'great'],\n",
              " ['cingular', 'get', 'great'],\n",
              " [],\n",
              " [],\n",
              " ['shift', 'one'],\n",
              " [],\n",
              " ['ear', 'jawbone'],\n",
              " ['it', 'good'],\n",
              " ['short'],\n",
              " ['good', 'product', 'buy']]"
            ]
          },
          "metadata": {
            "tags": []
          },
          "execution_count": 60
        }
      ]
    },
    {
      "cell_type": "code",
      "metadata": {
        "colab": {
          "base_uri": "https://localhost:8080/"
        },
        "id": "FYERG4cRdbJO",
        "outputId": "a9a99ed7-9eca-4a00-99e5-397cf9295b3f"
      },
      "source": [
        "len(vocavb_bi), len(bigram_idf), len(entities)"
      ],
      "execution_count": 61,
      "outputs": [
        {
          "output_type": "execute_result",
          "data": {
            "text/plain": [
              "(7150, 7150, 7150)"
            ]
          },
          "metadata": {
            "tags": []
          },
          "execution_count": 61
        }
      ]
    },
    {
      "cell_type": "code",
      "metadata": {
        "id": "AhNdHTFLdr63"
      },
      "source": [
        "final_entities = []\n",
        "for i in range(len(vocavb_bi)): \n",
        "  final = [*vocavb_bi[i],*bigram_idf[i],*entities[i]]\n",
        "  final = list(set(final))\n",
        "  final_entities.append(final)"
      ],
      "execution_count": 63,
      "outputs": []
    },
    {
      "cell_type": "code",
      "metadata": {
        "colab": {
          "base_uri": "https://localhost:8080/",
          "height": 743
        },
        "id": "mdWnTL0qeQn8",
        "outputId": "df8e50d7-6c8f-4d47-e3c4-c0d931cac811"
      },
      "source": [
        "small_df['final_entities'] = final_entities\n",
        "small_df.head(15)"
      ],
      "execution_count": 64,
      "outputs": [
        {
          "output_type": "execute_result",
          "data": {
            "text/html": [
              "<div>\n",
              "<style scoped>\n",
              "    .dataframe tbody tr th:only-of-type {\n",
              "        vertical-align: middle;\n",
              "    }\n",
              "\n",
              "    .dataframe tbody tr th {\n",
              "        vertical-align: top;\n",
              "    }\n",
              "\n",
              "    .dataframe thead th {\n",
              "        text-align: right;\n",
              "    }\n",
              "</style>\n",
              "<table border=\"1\" class=\"dataframe\">\n",
              "  <thead>\n",
              "    <tr style=\"text-align: right;\">\n",
              "      <th></th>\n",
              "      <th>titles</th>\n",
              "      <th>reviews</th>\n",
              "      <th>normalize_reviews</th>\n",
              "      <th>entities_spicy</th>\n",
              "      <th>final_entities</th>\n",
              "    </tr>\n",
              "  </thead>\n",
              "  <tbody>\n",
              "    <tr>\n",
              "      <th>0</th>\n",
              "      <td>Mobile Action MA730 Handset Manager - Bluetoot...</td>\n",
              "      <td>First of all, the company took my money and se...</td>\n",
              "      <td>[First, company, took, money, sent, email, tel...</td>\n",
              "      <td>[]</td>\n",
              "      <td>[product, email, sent]</td>\n",
              "    </tr>\n",
              "    <tr>\n",
              "      <th>3</th>\n",
              "      <td>USB Data Cable for Sony-Ericsson Z600, Z500, Z...</td>\n",
              "      <td>The price was right for this cable ($11.95+$4....</td>\n",
              "      <td>[The, price, right, cable, 11, 95, 4, 94, S, H...</td>\n",
              "      <td>[S&amp;H, Sony, Amazon, the Phone Monitor Options,...</td>\n",
              "      <td>[COM, C:\\Program, Amazon, S&amp;H, the Phone Monit...</td>\n",
              "    </tr>\n",
              "    <tr>\n",
              "      <th>12</th>\n",
              "      <td>Motorola HT820 Stereo Bluetooth Headset with m...</td>\n",
              "      <td>A great device, I use it with a NOKIA 9300 it ...</td>\n",
              "      <td>[A, great, device, I, use, Nokia, 9300, great,...</td>\n",
              "      <td>[NOKIA]</td>\n",
              "      <td>[hear, great, NOKIA]</td>\n",
              "    </tr>\n",
              "    <tr>\n",
              "      <th>17</th>\n",
              "      <td></td>\n",
              "      <td>I would like to buy two or more shells, do you...</td>\n",
              "      <td>[I, would, like, buy, two, shells, offer, diff...</td>\n",
              "      <td>[]</td>\n",
              "      <td>[choose, buy, two, pay]</td>\n",
              "    </tr>\n",
              "    <tr>\n",
              "      <th>18</th>\n",
              "      <td>Belkin Executive Leather Case handheld carryin...</td>\n",
              "      <td>This leather cover provides a professional fin...</td>\n",
              "      <td>[This, leather, cover, provides, professional,...</td>\n",
              "      <td>[]</td>\n",
              "      <td>[computer]</td>\n",
              "    </tr>\n",
              "    <tr>\n",
              "      <th>19</th>\n",
              "      <td>Samsung T809 M620 i607 U420 A303 A717 Car Char...</td>\n",
              "      <td>I thought this item was great for the money. I...</td>\n",
              "      <td>[I, thought, item, great, money, If, would, bo...</td>\n",
              "      <td>[Verizon]</td>\n",
              "      <td>[great, item, Verizon]</td>\n",
              "    </tr>\n",
              "    <tr>\n",
              "      <th>21</th>\n",
              "      <td>For Motorola V9m/ V3/ V3c/ V3i/ V3m/ V3t/ V3v ...</td>\n",
              "      <td>Great case... cingular should get their cases ...</td>\n",
              "      <td>[Great, case, cingular, get, cases, supplier, ...</td>\n",
              "      <td>[]</td>\n",
              "      <td>[get, great, cingular]</td>\n",
              "    </tr>\n",
              "    <tr>\n",
              "      <th>22</th>\n",
              "      <td>NEW UNLOCKED SAMSUNG X830 PINK MP3 CAMERA GSM ...</td>\n",
              "      <td>This item came earlier than expected! It is ev...</td>\n",
              "      <td>[This, item, came, earlier, expected, It, ever...</td>\n",
              "      <td>[]</td>\n",
              "      <td>[]</td>\n",
              "    </tr>\n",
              "    <tr>\n",
              "      <th>23</th>\n",
              "      <td>Ericsson Dual Slot Desktop Charger for Ericsso...</td>\n",
              "      <td>I purchased this charger along with the &amp;quot;...</td>\n",
              "      <td>[I, purchased, charger, along, quot, Ericsson,...</td>\n",
              "      <td>[the &amp;quot;Ericsson, LX588, Charger, Ericsson]</td>\n",
              "      <td>[Ericsson, LX588, the &amp;quot;Ericsson, Charger]</td>\n",
              "    </tr>\n",
              "    <tr>\n",
              "      <th>24</th>\n",
              "      <td>Audiovox Leather Carrying Case for Audiovox Ph...</td>\n",
              "      <td>The case I had didn't fit properly - the windo...</td>\n",
              "      <td>[The, case, I, fit, properly, window, obstruct...</td>\n",
              "      <td>[]</td>\n",
              "      <td>[one, shift]</td>\n",
              "    </tr>\n",
              "    <tr>\n",
              "      <th>28</th>\n",
              "      <td>Motorola Hands-Free Car Kit for Motorola StarT...</td>\n",
              "      <td>The Motorola StarTAC Hands Free Car kit is out...</td>\n",
              "      <td>[The, Motorola, Startac, Hands, Free, Car, kit...</td>\n",
              "      <td>[Motorola, Hands Free Car, Ford, Lincoln TC]</td>\n",
              "      <td>[Hands Free, Lincoln TC, Hands Free Car, Ford,...</td>\n",
              "    </tr>\n",
              "    <tr>\n",
              "      <th>30</th>\n",
              "      <td>Jabra EarGels - Clear</td>\n",
              "      <td>If you have had an issue with the Jawbone head...</td>\n",
              "      <td>[If, issue, Jawbone, headset, staying, ear, pu...</td>\n",
              "      <td>[the Jabra EarGel, EarGel, Jawbone, EarGel]</td>\n",
              "      <td>[EarGel, ear, the Jabra EarGel, jawbone, Jawbone]</td>\n",
              "    </tr>\n",
              "    <tr>\n",
              "      <th>246</th>\n",
              "      <td>Samsung Hands-Free Car Kit for Samsung SCH850 ...</td>\n",
              "      <td>It sounds great. I didn't think it would sound...</td>\n",
              "      <td>[It, sounds, great, I, think, would, sound, go...</td>\n",
              "      <td>[Unitech]</td>\n",
              "      <td>[good, it, Unitech]</td>\n",
              "    </tr>\n",
              "    <tr>\n",
              "      <th>248</th>\n",
              "      <td>Nokia Complete Hands-Free Car Kit with Audio H...</td>\n",
              "      <td>This is a must have for anyone that spends a l...</td>\n",
              "      <td>[This, must, anyone, spends, lot, time, vehicl...</td>\n",
              "      <td>[]</td>\n",
              "      <td>[short]</td>\n",
              "    </tr>\n",
              "    <tr>\n",
              "      <th>251</th>\n",
              "      <td>Nokia Hands-Free Earbud Headset with Adapter f...</td>\n",
              "      <td>Very good product. Would suggest this to anyon...</td>\n",
              "      <td>[Very, good, product, Would, suggest, anyone, ...</td>\n",
              "      <td>[]</td>\n",
              "      <td>[product, good, buy]</td>\n",
              "    </tr>\n",
              "  </tbody>\n",
              "</table>\n",
              "</div>"
            ],
            "text/plain": [
              "                                                titles  ...                                     final_entities\n",
              "0    Mobile Action MA730 Handset Manager - Bluetoot...  ...                             [product, email, sent]\n",
              "3    USB Data Cable for Sony-Ericsson Z600, Z500, Z...  ...  [COM, C:\\Program, Amazon, S&H, the Phone Monit...\n",
              "12   Motorola HT820 Stereo Bluetooth Headset with m...  ...                               [hear, great, NOKIA]\n",
              "17                                                      ...                            [choose, buy, two, pay]\n",
              "18   Belkin Executive Leather Case handheld carryin...  ...                                         [computer]\n",
              "19   Samsung T809 M620 i607 U420 A303 A717 Car Char...  ...                             [great, item, Verizon]\n",
              "21   For Motorola V9m/ V3/ V3c/ V3i/ V3m/ V3t/ V3v ...  ...                             [get, great, cingular]\n",
              "22   NEW UNLOCKED SAMSUNG X830 PINK MP3 CAMERA GSM ...  ...                                                 []\n",
              "23   Ericsson Dual Slot Desktop Charger for Ericsso...  ...     [Ericsson, LX588, the &quot;Ericsson, Charger]\n",
              "24   Audiovox Leather Carrying Case for Audiovox Ph...  ...                                       [one, shift]\n",
              "28   Motorola Hands-Free Car Kit for Motorola StarT...  ...  [Hands Free, Lincoln TC, Hands Free Car, Ford,...\n",
              "30                               Jabra EarGels - Clear  ...  [EarGel, ear, the Jabra EarGel, jawbone, Jawbone]\n",
              "246  Samsung Hands-Free Car Kit for Samsung SCH850 ...  ...                                [good, it, Unitech]\n",
              "248  Nokia Complete Hands-Free Car Kit with Audio H...  ...                                            [short]\n",
              "251  Nokia Hands-Free Earbud Headset with Adapter f...  ...                               [product, good, buy]\n",
              "\n",
              "[15 rows x 5 columns]"
            ]
          },
          "metadata": {
            "tags": []
          },
          "execution_count": 64
        }
      ]
    },
    {
      "cell_type": "markdown",
      "metadata": {
        "id": "1Jl5Xxocy_NL"
      },
      "source": [
        "### Способ объединить синонимичные упоминания"
      ]
    },
    {
      "cell_type": "code",
      "metadata": {
        "colab": {
          "base_uri": "https://localhost:8080/"
        },
        "id": "0yqTZhDNzEfP",
        "outputId": "a4eeeff3-fd1d-4931-fda5-86d8e62e6d58"
      },
      "source": [
        "# попробуем найти способ объединить синонимичные упоминания\n",
        "from gensim.models import phrases, word2vec\n",
        "model = word2vec.Word2Vec(bigram_sentences, size=50, min_count=3, iter=20)\n",
        "model.wv.most_similar('Leather_Case')"
      ],
      "execution_count": 61,
      "outputs": [
        {
          "output_type": "stream",
          "text": [
            "/usr/local/lib/python3.6/dist-packages/gensim/matutils.py:737: FutureWarning: Conversion of the second argument of issubdtype from `int` to `np.signedinteger` is deprecated. In future, it will be treated as `np.int64 == np.dtype(int).type`.\n",
            "  if np.issubdtype(vec.dtype, np.int):\n"
          ],
          "name": "stderr"
        },
        {
          "output_type": "execute_result",
          "data": {
            "text/plain": [
              "[('Belt_Clip', 0.9606925845146179),\n",
              " ('Holster', 0.9494993090629578),\n",
              " ('Clip', 0.9392268061637878),\n",
              " ('Platinum_Skin', 0.9307593107223511),\n",
              " ('Ratcheting', 0.9305804967880249),\n",
              " ('Leather_Wrapped', 0.9280011057853699),\n",
              " ('Leather_Pouch', 0.9260797500610352),\n",
              " ('Long', 0.9246401786804199),\n",
              " ('Plastic_Swivel', 0.920512855052948),\n",
              " ('Closure', 0.919310986995697)]"
            ]
          },
          "metadata": {
            "tags": []
          },
          "execution_count": 61
        }
      ]
    },
    {
      "cell_type": "markdown",
      "metadata": {
        "id": "2XLQYP5nK41B"
      },
      "source": [
        "## Неудачная попытка найти NER c помощью stanza"
      ]
    },
    {
      "cell_type": "code",
      "metadata": {
        "colab": {
          "base_uri": "https://localhost:8080/"
        },
        "id": "Y5nMga2P5Y2O",
        "outputId": "51a7242b-7a79-49b7-ce05-56816e85b0bc"
      },
      "source": [
        "doc = nlp(' '.join(sentences[13]))\n",
        "print(*[f'entity: {ent.text}\\ttype: {ent.type}' for ent in doc.ents], sep='\\n')"
      ],
      "execution_count": null,
      "outputs": [
        {
          "output_type": "stream",
          "text": [
            "entity: Nokia\ttype: ORG\n"
          ],
          "name": "stdout"
        }
      ]
    },
    {
      "cell_type": "code",
      "metadata": {
        "colab": {
          "base_uri": "https://localhost:8080/"
        },
        "id": "jjEhVLZp0M_x",
        "outputId": "09a43ea8-1da7-456b-8230-018ec6a08aef"
      },
      "source": [
        "# to create the bigrams\n",
        "bigram_model = Phrases(unigram_sentences)\n",
        "\n",
        "bigram_sentences = []\n",
        "# apply the trained model to a sentence\n",
        "for unigram_sentence in unigram_sentences:\n",
        "    bigram_sentence = bigram_model[unigram_sentence]\n",
        "    bigram_sentences.append(bigram_sentence)"
      ],
      "execution_count": null,
      "outputs": [
        {
          "output_type": "stream",
          "text": [
            "/usr/local/lib/python3.6/dist-packages/gensim/models/phrases.py:598: UserWarning: For a faster implementation, use the gensim.models.phrases.Phraser class\n",
            "  warnings.warn(\"For a faster implementation, use the gensim.models.phrases.Phraser class\")\n"
          ],
          "name": "stderr"
        }
      ]
    },
    {
      "cell_type": "code",
      "metadata": {
        "colab": {
          "base_uri": "https://localhost:8080/"
        },
        "id": "TboAvqnp0M_x",
        "outputId": "734d2ba8-6df9-4874-88c5-72e4a8b611e6"
      },
      "source": [
        "bigram_sentences[4] "
      ],
      "execution_count": null,
      "outputs": [
        {
          "output_type": "execute_result",
          "data": {
            "text/plain": [
              "['Belkin',\n",
              " 'Executive',\n",
              " 'Leather_Case',\n",
              " 'handheld',\n",
              " 'carrying',\n",
              " 'case',\n",
              " 'F8D0402']"
            ]
          },
          "metadata": {
            "tags": []
          },
          "execution_count": 11
        }
      ]
    },
    {
      "cell_type": "code",
      "metadata": {
        "colab": {
          "base_uri": "https://localhost:8080/"
        },
        "id": "BaVS5b9M0M_y",
        "outputId": "a754f729-be2d-4f83-d357-513f46a02b95"
      },
      "source": [
        "# попробуем найти способ объединить синонимичные упоминания\n",
        "from gensim.models import phrases, word2vec\n",
        "model = word2vec.Word2Vec(bigram_sentences, size=50, min_count=3, iter=20)\n",
        "model.wv.most_similar('Leather_Case')"
      ],
      "execution_count": null,
      "outputs": [
        {
          "output_type": "stream",
          "text": [
            "/usr/local/lib/python3.6/dist-packages/gensim/matutils.py:737: FutureWarning: Conversion of the second argument of issubdtype from `int` to `np.signedinteger` is deprecated. In future, it will be treated as `np.int64 == np.dtype(int).type`.\n",
            "  if np.issubdtype(vec.dtype, np.int):\n"
          ],
          "name": "stderr"
        },
        {
          "output_type": "execute_result",
          "data": {
            "text/plain": [
              "[('Belt_Clip', 0.9567947387695312),\n",
              " ('Ratcheting', 0.9527748823165894),\n",
              " ('Leather_Wrapped', 0.9432302117347717),\n",
              " ('Leather_Pouch', 0.9420849084854126),\n",
              " ('Long', 0.9393155574798584),\n",
              " ('Holster', 0.9325529336929321),\n",
              " ('Universal_Horizontal', 0.929357647895813),\n",
              " ('Plastic_Swivel', 0.9121782183647156),\n",
              " ('Swivel_Belt', 0.9098306894302368),\n",
              " ('Krusell', 0.90790855884552)]"
            ]
          },
          "metadata": {
            "tags": []
          },
          "execution_count": 12
        }
      ]
    },
    {
      "cell_type": "code",
      "metadata": {
        "colab": {
          "base_uri": "https://localhost:8080/"
        },
        "id": "XNXuAor40M_y",
        "outputId": "f0bc2a1e-5961-4f57-b3b2-2347fdc5d793"
      },
      "source": [
        "from sklearn.feature_extraction.text import TfidfVectorizer\n",
        "vectorizer = TfidfVectorizer(min_df=5)\n",
        "\n",
        "tfidf_matrix = vectorizer.fit_transform(\" \".join(t) for t in bigram_sentences)\n",
        "tfidf_matrix.toarray()"
      ],
      "execution_count": null,
      "outputs": [
        {
          "output_type": "execute_result",
          "data": {
            "text/plain": [
              "array([[0., 0., 0., ..., 0., 0., 0.],\n",
              "       [0., 0., 0., ..., 0., 0., 0.],\n",
              "       [0., 0., 0., ..., 0., 0., 0.],\n",
              "       ...,\n",
              "       [0., 0., 0., ..., 0., 0., 0.],\n",
              "       [0., 0., 0., ..., 0., 0., 0.],\n",
              "       [0., 0., 0., ..., 0., 0., 0.]])"
            ]
          },
          "metadata": {
            "tags": []
          },
          "execution_count": 13
        }
      ]
    },
    {
      "cell_type": "code",
      "metadata": {
        "colab": {
          "base_uri": "https://localhost:8080/"
        },
        "id": "xdme7Z2ZbH1P",
        "outputId": "3f716d13-7ddb-45ff-9061-591489b6a238"
      },
      "source": [
        "print(\" \".join(bigram_sentences[0]))\n",
        "text1_tfidf = vectorizer.transform([\" \".join(bigram_sentences[0])])\n",
        "vocab = vectorizer.get_feature_names()\n",
        "tfidf = vectorizer.idf_\n",
        "top = list(sorted(zip(vocab, text1_tfidf.toarray()[0]), key=lambda x: x[1], reverse = True))\n",
        "for x,y in top:\n",
        "  if y > 0.4:\n",
        "    print(x,' -> ', y)"
      ],
      "execution_count": 27,
      "outputs": [
        {
          "output_type": "stream",
          "text": [
            "Mobile_Action MA730 Handset_Manager Bluetooth Data Suite\n",
            "ma730  ->  0.5559198315357913\n",
            "handset_manager  ->  0.4565840584981748\n",
            "suite  ->  0.45138820573691657\n"
          ],
          "name": "stdout"
        }
      ]
    },
    {
      "cell_type": "code",
      "metadata": {
        "colab": {
          "base_uri": "https://localhost:8080/"
        },
        "id": "q3x7IeXo5rv6",
        "outputId": "00ab642a-0638-4ba8-fc50-04c0dda0bc27"
      },
      "source": [
        "doc = nlp(' '.join(sentences[13]))\n",
        "print(*[f'entity: {ent.text}\\ttype: {ent.type}' for ent in doc.ents], sep='\\n')"
      ],
      "execution_count": null,
      "outputs": [
        {
          "output_type": "stream",
          "text": [
            "entity: Nokia\ttype: ORG\n"
          ],
          "name": "stdout"
        }
      ]
    },
    {
      "cell_type": "code",
      "metadata": {
        "id": "ycB9cyBkhAEh"
      },
      "source": [
        "texts = []\n",
        "for d in data:\n",
        "    try:\n",
        "      texts.append(d['review/text'])\n",
        "    except KeyError:\n",
        "        pass"
      ],
      "execution_count": null,
      "outputs": []
    },
    {
      "cell_type": "code",
      "metadata": {
        "colab": {
          "base_uri": "https://localhost:8080/"
        },
        "id": "V42REnKuczE0",
        "outputId": "43b0314e-7a95-41f2-8a12-1ec1653043dd"
      },
      "source": [
        "from tqdm import tqdm\n",
        "def find_products(text):\n",
        "  doc = nlp(' '.join(text))\n",
        "  result = [f'entity: {ent.text}, type: {ent.type}' for ent in doc.ents]\n",
        "  return result\n",
        "\n",
        "# возьмем пока только 1000, иначе долго работает\n",
        "results = []\n",
        "for text in tqdm(texts[:1000]):\n",
        "  find = find_products(text)\n",
        "  if find != None:\n",
        "    results.append(find)"
      ],
      "execution_count": null,
      "outputs": [
        {
          "output_type": "stream",
          "text": [
            "100%|██████████| 1000/1000 [23:10<00:00,  1.39s/it]\n"
          ],
          "name": "stderr"
        }
      ]
    },
    {
      "cell_type": "code",
      "metadata": {
        "colab": {
          "base_uri": "https://localhost:8080/"
        },
        "id": "WuyArN2k4ueo",
        "outputId": "1cbb4680-6a93-484a-90e6-9a285fca01cf"
      },
      "source": [
        "# к сожалению, нужных сущностей, как в примере, мы не выделили\n",
        "# Я не понимаю, почему в заголовках он много всего находит,\n",
        "# А в текстах ничего нужного\n",
        "results = [x for x in results if x != []]\n",
        "results "
      ],
      "execution_count": null,
      "outputs": [
        {
          "output_type": "execute_result",
          "data": {
            "text/plain": [
              "[['entity: 6, type: CARDINAL'],\n",
              " ['entity: 9, type: MONEY'],\n",
              " ['entity: 1, type: CARDINAL', 'entity: 2, type: CARDINAL'],\n",
              " ['entity: 0, type: CARDINAL'],\n",
              " ['entity: 4, type: MONEY'],\n",
              " ['entity: 3, type: CARDINAL', 'entity: 4, type: CARDINAL'],\n",
              " ['entity: 2, type: CARDINAL'],\n",
              " ['entity: 3, type: CARDINAL'],\n",
              " ['entity: 3, type: CARDINAL'],\n",
              " ['entity: 2, type: CARDINAL'],\n",
              " ['entity: $ 2 0, type: MONEY'],\n",
              " ['entity: 1, type: CARDINAL',\n",
              "  'entity: 2, type: CARDINAL',\n",
              "  'entity: 4, type: CARDINAL',\n",
              "  'entity: 1, type: CARDINAL',\n",
              "  'entity: 4, type: CARDINAL'],\n",
              " ['entity: 9, type: CARDINAL'],\n",
              " ['entity: 5   s, type: QUANTITY'],\n",
              " ['entity: 5, type: CARDINAL'],\n",
              " ['entity: 9 2, type: CARDINAL',\n",
              "  'entity: 1 2, type: CARDINAL',\n",
              "  'entity: 1, type: CARDINAL'],\n",
              " ['entity: 4, type: CARDINAL'],\n",
              " ['entity: 3, type: CARDINAL'],\n",
              " ['entity: 1, type: CARDINAL',\n",
              "  'entity: 2, type: CARDINAL',\n",
              "  'entity: 3, type: CARDINAL',\n",
              "  'entity: 4, type: CARDINAL',\n",
              "  'entity: 5, type: CARDINAL',\n",
              "  'entity: 4, type: CARDINAL',\n",
              "  'entity: 5, type: CARDINAL'],\n",
              " ['entity: 5, type: CARDINAL'],\n",
              " ['entity: 1 0 0 %, type: PERCENT'],\n",
              " ['entity: 9, type: CARDINAL'],\n",
              " ['entity: 1, type: CARDINAL',\n",
              "  'entity: 2, type: CARDINAL',\n",
              "  'entity: 4, type: CARDINAL'],\n",
              " ['entity: 0, type: CARDINAL'],\n",
              " ['entity: $ 5, type: MONEY'],\n",
              " ['entity: 1, type: CARDINAL',\n",
              "  'entity: 2, type: CARDINAL',\n",
              "  'entity: 3, type: CARDINAL',\n",
              "  'entity: 4, type: CARDINAL',\n",
              "  'entity: 5, type: CARDINAL',\n",
              "  'entity: 6, type: CARDINAL',\n",
              "  'entity: 7, type: CARDINAL',\n",
              "  'entity: 8, type: CARDINAL'],\n",
              " ['entity: 2, type: CARDINAL'],\n",
              " ['entity: 7, type: CARDINAL'],\n",
              " ['entity: 1, type: CARDINAL',\n",
              "  'entity: 2, type: CARDINAL',\n",
              "  'entity: 3, type: CARDINAL'],\n",
              " ['entity: 1, type: CARDINAL', 'entity: 2, type: CARDINAL'],\n",
              " ['entity: 4, type: CARDINAL', 'entity: 5, type: CARDINAL'],\n",
              " ['entity: 8, type: CARDINAL'],\n",
              " ['entity: 1, type: CARDINAL'],\n",
              " ['entity: 1, type: CARDINAL',\n",
              "  'entity: 2, type: CARDINAL',\n",
              "  'entity: 3, type: CARDINAL',\n",
              "  'entity: 4, type: CARDINAL',\n",
              "  'entity: 5, type: CARDINAL',\n",
              "  'entity: 6, type: CARDINAL'],\n",
              " ['entity: 2, type: CARDINAL',\n",
              "  'entity: 3, type: CARDINAL',\n",
              "  'entity: 5, type: CARDINAL'],\n",
              " ['entity: 2, type: CARDINAL'],\n",
              " ['entity: 2, type: CARDINAL'],\n",
              " ['entity: 2, type: CARDINAL'],\n",
              " ['entity: 1, type: CARDINAL'],\n",
              " ['entity: 6, type: CARDINAL', 'entity: 2, type: CARDINAL']]"
            ]
          },
          "metadata": {
            "tags": []
          },
          "execution_count": 18
        }
      ]
    },
    {
      "cell_type": "markdown",
      "metadata": {
        "id": "___z6UDDdLdU"
      },
      "source": [
        "## Соберите n-граммы с полученными сущностями (NE + левый сосед / NE + правый сосед)"
      ]
    },
    {
      "cell_type": "code",
      "metadata": {
        "colab": {
          "base_uri": "https://localhost:8080/"
        },
        "id": "F0mCjp-6dRcA",
        "outputId": "d5827f74-52a6-40c8-d676-9975a8a08250"
      },
      "source": [
        "def cbow_split(tokens: list,  ne: str, window=1, pad_token = 'PAD'):\n",
        "  splits = []\n",
        "  for x in range(window):\n",
        "    tokens.append(pad_token)\n",
        "    tokens.insert(0,pad_token)\n",
        "  for i, el in enumerate(tokens):\n",
        "    if el != 'PAD':\n",
        "      left = tokens[i-window:i+window+1][:window]\n",
        "      right = tokens[i-window:i+window+1][window+1:]\n",
        "      if len(ne.split()) == 1:\n",
        "        if el==ne:\n",
        "          splits.append((left,el,right))\n",
        "     \n",
        "  return splits\n",
        "\n",
        "\n",
        "# так как нам нужны только левый и правый соседи, окно = 1\n",
        "sample_text = list(small_df['normalize_reviews'])[0]\n",
        "sample_ne = list(small_df['final_entities'])[0]\n",
        "for ne in sample_ne:\n",
        "  print(cbow_split(sample_text, ne))\n"
      ],
      "execution_count": 75,
      "outputs": [
        {
          "output_type": "stream",
          "text": [
            "[(['telling'], 'product', ['shipped']), (['buy'], 'product', ['work'])]\n",
            "[(['sent'], 'email', ['telling']), (['another'], 'email', ['telling']), (['received'], 'email', ['telling'])]\n",
            "[(['money'], 'sent', ['email']), (['I'], 'sent', ['numerous'])]\n"
          ],
          "name": "stdout"
        }
      ]
    }
  ]
}