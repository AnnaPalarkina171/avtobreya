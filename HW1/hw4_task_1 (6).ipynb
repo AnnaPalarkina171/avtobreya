{
  "nbformat": 4,
  "nbformat_minor": 0,
  "metadata": {
    "kernelspec": {
      "display_name": "Python 3",
      "language": "python",
      "name": "python3"
    },
    "language_info": {
      "codemirror_mode": {
        "name": "ipython",
        "version": 3
      },
      "file_extension": ".py",
      "mimetype": "text/x-python",
      "name": "python",
      "nbconvert_exporter": "python",
      "pygments_lexer": "ipython3",
      "version": "3.8.3"
    },
    "colab": {
      "name": "hw4_task_1.ipynb",
      "provenance": [],
      "collapsed_sections": [
        "4ayiG93hcLYX"
      ]
    }
  },
  "cells": [
    {
      "cell_type": "markdown",
      "metadata": {
        "id": "oXWyMLrTbaMe"
      },
      "source": [
        "# Аугментация с заменой слов на основе word2vec (2 балла)"
      ]
    },
    {
      "cell_type": "code",
      "metadata": {
        "id": "xJIedza0zqOZ",
        "outputId": "83d059bf-d9b9-4fe0-8575-2cd209153852",
        "colab": {
          "base_uri": "https://localhost:8080/"
        }
      },
      "source": [
        "!pip install --upgrade gensim"
      ],
      "execution_count": 13,
      "outputs": [
        {
          "output_type": "stream",
          "text": [
            "Requirement already up-to-date: gensim in /usr/local/lib/python3.6/dist-packages (3.8.3)\n",
            "Requirement already satisfied, skipping upgrade: six>=1.5.0 in /usr/local/lib/python3.6/dist-packages (from gensim) (1.15.0)\n",
            "Requirement already satisfied, skipping upgrade: smart-open>=1.8.1 in /usr/local/lib/python3.6/dist-packages (from gensim) (3.0.0)\n",
            "Requirement already satisfied, skipping upgrade: scipy>=0.18.1 in /usr/local/lib/python3.6/dist-packages (from gensim) (1.4.1)\n",
            "Requirement already satisfied, skipping upgrade: numpy>=1.11.3 in /usr/local/lib/python3.6/dist-packages (from gensim) (1.18.5)\n",
            "Requirement already satisfied, skipping upgrade: requests in /usr/local/lib/python3.6/dist-packages (from smart-open>=1.8.1->gensim) (2.23.0)\n",
            "Requirement already satisfied, skipping upgrade: certifi>=2017.4.17 in /usr/local/lib/python3.6/dist-packages (from requests->smart-open>=1.8.1->gensim) (2020.6.20)\n",
            "Requirement already satisfied, skipping upgrade: idna<3,>=2.5 in /usr/local/lib/python3.6/dist-packages (from requests->smart-open>=1.8.1->gensim) (2.10)\n",
            "Requirement already satisfied, skipping upgrade: urllib3!=1.25.0,!=1.25.1,<1.26,>=1.21.1 in /usr/local/lib/python3.6/dist-packages (from requests->smart-open>=1.8.1->gensim) (1.24.3)\n",
            "Requirement already satisfied, skipping upgrade: chardet<4,>=3.0.2 in /usr/local/lib/python3.6/dist-packages (from requests->smart-open>=1.8.1->gensim) (3.0.4)\n"
          ],
          "name": "stdout"
        }
      ]
    },
    {
      "cell_type": "code",
      "metadata": {
        "id": "ySnk6wvDzqOk",
        "outputId": "1025f44b-c8bd-4b1e-ff1d-9e9dd9e0cefc",
        "colab": {
          "base_uri": "https://localhost:8080/"
        }
      },
      "source": [
        "!pip install wget\n",
        "import wget"
      ],
      "execution_count": 39,
      "outputs": [
        {
          "output_type": "stream",
          "text": [
            "Requirement already satisfied: wget in /usr/local/lib/python3.6/dist-packages (3.2)\n"
          ],
          "name": "stdout"
        }
      ]
    },
    {
      "cell_type": "code",
      "metadata": {
        "id": "INlihuof1tp0",
        "outputId": "257ed164-e7c0-4259-92b1-15ca1ab2c2ec",
        "colab": {
          "base_uri": "https://localhost:8080/"
        }
      },
      "source": [
        "!wget -c http://vectors.nlpl.eu/repository/20/180.zip\n",
        "!unzip 180.zip"
      ],
      "execution_count": null,
      "outputs": [
        {
          "output_type": "stream",
          "text": [
            "--2020-11-08 15:19:58--  http://vectors.nlpl.eu/repository/20/180.zip\n",
            "Resolving vectors.nlpl.eu (vectors.nlpl.eu)... 129.240.189.225\n",
            "Connecting to vectors.nlpl.eu (vectors.nlpl.eu)|129.240.189.225|:80... connected.\n",
            "HTTP request sent, awaiting response... 200 OK\n",
            "Length: 484452317 (462M) [application/zip]\n",
            "Saving to: ‘180.zip’\n",
            "\n",
            "180.zip             100%[===================>] 462.01M  9.88MB/s    in 61s     \n",
            "\n",
            "2020-11-08 15:21:01 (7.59 MB/s) - ‘180.zip’ saved [484452317/484452317]\n",
            "\n",
            "Archive:  180.zip\n",
            "  inflating: meta.json               \n",
            "  inflating: model.bin               \n",
            "  inflating: model.txt               \n",
            "  inflating: README                  \n"
          ],
          "name": "stdout"
        }
      ]
    },
    {
      "cell_type": "code",
      "metadata": {
        "id": "R5OnJLel3L7Q",
        "outputId": "3cbb714e-8b44-41e2-a8a1-0d9033b8d2f1",
        "colab": {
          "base_uri": "https://localhost:8080/"
        }
      },
      "source": [
        "!pip install pymorphy2\n",
        "import pymorphy2\n",
        "morph = pymorphy2.MorphAnalyzer()"
      ],
      "execution_count": null,
      "outputs": [
        {
          "output_type": "stream",
          "text": [
            "Collecting pymorphy2\n",
            "\u001b[?25l  Downloading https://files.pythonhosted.org/packages/07/57/b2ff2fae3376d4f3c697b9886b64a54b476e1a332c67eee9f88e7f1ae8c9/pymorphy2-0.9.1-py3-none-any.whl (55kB)\n",
            "\r\u001b[K     |██████                          | 10kB 18.2MB/s eta 0:00:01\r\u001b[K     |███████████▉                    | 20kB 1.7MB/s eta 0:00:01\r\u001b[K     |█████████████████▊              | 30kB 2.2MB/s eta 0:00:01\r\u001b[K     |███████████████████████▋        | 40kB 2.5MB/s eta 0:00:01\r\u001b[K     |█████████████████████████████▌  | 51kB 2.0MB/s eta 0:00:01\r\u001b[K     |████████████████████████████████| 61kB 1.9MB/s \n",
            "\u001b[?25hRequirement already satisfied: docopt>=0.6 in /usr/local/lib/python3.6/dist-packages (from pymorphy2) (0.6.2)\n",
            "Collecting dawg-python>=0.7.1\n",
            "  Downloading https://files.pythonhosted.org/packages/6a/84/ff1ce2071d4c650ec85745766c0047ccc3b5036f1d03559fd46bb38b5eeb/DAWG_Python-0.7.2-py2.py3-none-any.whl\n",
            "\u001b[33mWARNING: Retrying (Retry(total=4, connect=None, read=None, redirect=None, status=None)) after connection broken by 'ProtocolError('Connection aborted.', ConnectionResetError(104, 'Connection reset by peer'))': /simple/pymorphy2-dicts-ru/\u001b[0m\n",
            "Collecting pymorphy2-dicts-ru<3.0,>=2.4\n",
            "\u001b[?25l  Downloading https://files.pythonhosted.org/packages/3a/79/bea0021eeb7eeefde22ef9e96badf174068a2dd20264b9a378f2be1cdd9e/pymorphy2_dicts_ru-2.4.417127.4579844-py2.py3-none-any.whl (8.2MB)\n",
            "\u001b[K     |████████████████████████████████| 8.2MB 5.7MB/s \n",
            "\u001b[?25hInstalling collected packages: dawg-python, pymorphy2-dicts-ru, pymorphy2\n",
            "Successfully installed dawg-python-0.7.2 pymorphy2-0.9.1 pymorphy2-dicts-ru-2.4.417127.4579844\n"
          ],
          "name": "stdout"
        }
      ]
    },
    {
      "cell_type": "code",
      "metadata": {
        "id": "wivKJ_mwkoyu",
        "outputId": "100e7ced-f121-4bb2-9a4b-9bbe1a13c1a8",
        "colab": {
          "base_uri": "https://localhost:8080/"
        }
      },
      "source": [
        "import gensim\n",
        "\n",
        "!pip install razdel\n",
        "from razdel import tokenize"
      ],
      "execution_count": 40,
      "outputs": [
        {
          "output_type": "stream",
          "text": [
            "Requirement already satisfied: razdel in /usr/local/lib/python3.6/dist-packages (0.5.0)\n"
          ],
          "name": "stdout"
        }
      ]
    },
    {
      "cell_type": "code",
      "metadata": {
        "id": "jvGMaEhjzqOe",
        "outputId": "01be9ee3-73dc-4525-8834-5e391b2ed5a1",
        "colab": {
          "base_uri": "https://localhost:8080/"
        }
      },
      "source": [
        "!pip install ufal.udpipe\n",
        "from ufal.udpipe import Model, Pipeline\n",
        "import os\n",
        "import re\n",
        "import sys"
      ],
      "execution_count": null,
      "outputs": [
        {
          "output_type": "stream",
          "text": [
            "Collecting ufal.udpipe\n",
            "\u001b[?25l  Downloading https://files.pythonhosted.org/packages/e5/72/2b8b9dc7c80017c790bb3308bbad34b57accfed2ac2f1f4ab252ff4e9cb2/ufal.udpipe-1.2.0.3.tar.gz (304kB)\n",
            "\r\u001b[K     |█                               | 10kB 16.2MB/s eta 0:00:01\r\u001b[K     |██▏                             | 20kB 1.4MB/s eta 0:00:01\r\u001b[K     |███▎                            | 30kB 2.1MB/s eta 0:00:01\r\u001b[K     |████▎                           | 40kB 1.5MB/s eta 0:00:01\r\u001b[K     |█████▍                          | 51kB 1.8MB/s eta 0:00:01\r\u001b[K     |██████▌                         | 61kB 2.1MB/s eta 0:00:01\r\u001b[K     |███████▌                        | 71kB 2.5MB/s eta 0:00:01\r\u001b[K     |████████▋                       | 81kB 2.8MB/s eta 0:00:01\r\u001b[K     |█████████▊                      | 92kB 3.1MB/s eta 0:00:01\r\u001b[K     |██████████▊                     | 102kB 2.5MB/s eta 0:00:01\r\u001b[K     |███████████▉                    | 112kB 2.5MB/s eta 0:00:01\r\u001b[K     |█████████████                   | 122kB 2.5MB/s eta 0:00:01\r\u001b[K     |██████████████                  | 133kB 2.5MB/s eta 0:00:01\r\u001b[K     |███████████████                 | 143kB 2.5MB/s eta 0:00:01\r\u001b[K     |████████████████▏               | 153kB 2.5MB/s eta 0:00:01\r\u001b[K     |█████████████████▎              | 163kB 2.5MB/s eta 0:00:01\r\u001b[K     |██████████████████▎             | 174kB 2.5MB/s eta 0:00:01\r\u001b[K     |███████████████████▍            | 184kB 2.5MB/s eta 0:00:01\r\u001b[K     |████████████████████▌           | 194kB 2.5MB/s eta 0:00:01\r\u001b[K     |█████████████████████▌          | 204kB 2.5MB/s eta 0:00:01\r\u001b[K     |██████████████████████▋         | 215kB 2.5MB/s eta 0:00:01\r\u001b[K     |███████████████████████▊        | 225kB 2.5MB/s eta 0:00:01\r\u001b[K     |████████████████████████▉       | 235kB 2.5MB/s eta 0:00:01\r\u001b[K     |█████████████████████████▉      | 245kB 2.5MB/s eta 0:00:01\r\u001b[K     |███████████████████████████     | 256kB 2.5MB/s eta 0:00:01\r\u001b[K     |████████████████████████████    | 266kB 2.5MB/s eta 0:00:01\r\u001b[K     |█████████████████████████████   | 276kB 2.5MB/s eta 0:00:01\r\u001b[K     |██████████████████████████████▏ | 286kB 2.5MB/s eta 0:00:01\r\u001b[K     |███████████████████████████████▎| 296kB 2.5MB/s eta 0:00:01\r\u001b[K     |████████████████████████████████| 307kB 2.5MB/s \n",
            "\u001b[?25hBuilding wheels for collected packages: ufal.udpipe\n",
            "  Building wheel for ufal.udpipe (setup.py) ... \u001b[?25l\u001b[?25hdone\n",
            "  Created wheel for ufal.udpipe: filename=ufal.udpipe-1.2.0.3-cp36-cp36m-linux_x86_64.whl size=5625277 sha256=6e5929fa58a573997e9a3e2f43b43da1201761378e667d468d7e61e9b264b914\n",
            "  Stored in directory: /root/.cache/pip/wheels/0c/9d/db/6d3404c33da5b7adb6c6972853efb6a27649d3ba15f7e9bebb\n",
            "Successfully built ufal.udpipe\n",
            "Installing collected packages: ufal.udpipe\n",
            "Successfully installed ufal.udpipe-1.2.0.3\n"
          ],
          "name": "stdout"
        }
      ]
    },
    {
      "cell_type": "code",
      "metadata": {
        "id": "V9PFfqdLLiL8",
        "outputId": "ed74b93c-73db-407f-844d-484e67231b60",
        "colab": {
          "base_uri": "https://localhost:8080/"
        }
      },
      "source": [
        "!pip install razdel\n",
        "!pip install pymorphy2\n",
        "\n",
        "from razdel import tokenize\n",
        "from razdel import sentenize\n",
        "import nltk\n",
        "from nltk.corpus import stopwords\n",
        "nltk.download('stopwords')  \n",
        "nltk.download('punkt')\n",
        "from string import punctuation\n",
        "import pymorphy2\n",
        "\n",
        "morph = pymorphy2.MorphAnalyzer()\n",
        "russian_stopwords = stopwords.words('russian')"
      ],
      "execution_count": null,
      "outputs": [
        {
          "output_type": "stream",
          "text": [
            "Requirement already satisfied: razdel in /usr/local/lib/python3.6/dist-packages (0.5.0)\n",
            "Requirement already satisfied: pymorphy2 in /usr/local/lib/python3.6/dist-packages (0.9.1)\n",
            "Requirement already satisfied: dawg-python>=0.7.1 in /usr/local/lib/python3.6/dist-packages (from pymorphy2) (0.7.2)\n",
            "Requirement already satisfied: docopt>=0.6 in /usr/local/lib/python3.6/dist-packages (from pymorphy2) (0.6.2)\n",
            "Requirement already satisfied: pymorphy2-dicts-ru<3.0,>=2.4 in /usr/local/lib/python3.6/dist-packages (from pymorphy2) (2.4.417127.4579844)\n",
            "[nltk_data] Downloading package stopwords to /root/nltk_data...\n",
            "[nltk_data]   Unzipping corpora/stopwords.zip.\n",
            "[nltk_data] Downloading package punkt to /root/nltk_data...\n",
            "[nltk_data]   Unzipping tokenizers/punkt.zip.\n"
          ],
          "name": "stdout"
        }
      ]
    },
    {
      "cell_type": "code",
      "metadata": {
        "id": "SIJL5eZGPNEl"
      },
      "source": [
        "punctuation = punctuation + '„“«»'"
      ],
      "execution_count": null,
      "outputs": []
    },
    {
      "cell_type": "code",
      "metadata": {
        "id": "ZFYxNQUezqOo"
      },
      "source": [
        "word_vectors = gensim.models.KeyedVectors.load_word2vec_format(\"model.bin\", binary=True)\n",
        "\n",
        "word_vectors.init_sims(replace=True) # it is beneficial to normalize the word2vec vectors first, so they all have equal length"
      ],
      "execution_count": null,
      "outputs": []
    },
    {
      "cell_type": "code",
      "metadata": {
        "id": "IoeeuUFFzqOr"
      },
      "source": [
        "udpipe_model_url = 'https://rusvectores.org/static/models/udpipe_syntagrus.model'\n",
        "udpipe_filename = udpipe_model_url.split('/')[-1]\n",
        "wget.download(udpipe_model_url)\n",
        "model = Model.load('udpipe_syntagrus.model')\n",
        "process_pipeline = Pipeline(model, 'tokenize', Pipeline.DEFAULT, Pipeline.DEFAULT, 'conllu')"
      ],
      "execution_count": null,
      "outputs": []
    },
    {
      "cell_type": "code",
      "metadata": {
        "id": "owTIHcfEzqOv"
      },
      "source": [
        "def clean_token(token, misc):\n",
        "    out_token = token.strip().replace(' ', '')\n",
        "    if token == 'Файл' and 'SpaceAfter=No' in misc:\n",
        "        return None\n",
        "    return out_token\n",
        "\n",
        "\n",
        "def clean_lemma(lemma, pos):\n",
        "    out_lemma = lemma.strip().replace(' ', '').replace('_', '').lower()\n",
        "    if '|' in out_lemma or out_lemma.endswith('.jpg') or out_lemma.endswith('.png'):\n",
        "        return None\n",
        "    if pos != 'PUNCT':\n",
        "        if out_lemma.startswith('«') or out_lemma.startswith('»'):\n",
        "            out_lemma = ''.join(out_lemma[1:])\n",
        "        if out_lemma.endswith('«') or out_lemma.endswith('»'):\n",
        "            out_lemma = ''.join(out_lemma[:-1])\n",
        "        if out_lemma.endswith('!') or out_lemma.endswith('?') or out_lemma.endswith(',') \\\n",
        "                or out_lemma.endswith('.'):\n",
        "            out_lemma = ''.join(out_lemma[:-1])\n",
        "    return out_lemma\n",
        "\n",
        "def process(text, keep_pos=True, keep_punct=False):\n",
        "    pipeline = process_pipeline\n",
        "    entities = {'PROPN'}\n",
        "    named = False\n",
        "    memory = []\n",
        "    mem_case = None\n",
        "    mem_number = None\n",
        "    tagged_propn = []\n",
        "\n",
        "    # обрабатываем текст, получаем результат в формате conllu:\n",
        "    processed = pipeline.process(text)\n",
        "\n",
        "    # пропускаем строки со служебной информацией:\n",
        "    content = [l for l in processed.split('\\n') if not l.startswith('#')]\n",
        "\n",
        "    # извлекаем из обработанного текста леммы, тэги и морфологические характеристики\n",
        "    tagged = [w.split('\\t') for w in content if w]\n",
        "\n",
        "    for t in tagged:\n",
        "        if len(t) != 10:\n",
        "            continue\n",
        "        (word_id, token, lemma, pos, xpos, feats, head, deprel, deps, misc) = t\n",
        "        token = clean_token(token, misc)\n",
        "        lemma = clean_lemma(lemma, pos)\n",
        "        if not lemma or not token:\n",
        "            continue\n",
        "        if pos in entities:\n",
        "            if '|' not in feats:\n",
        "                tagged_propn.append('%s_%s' % (lemma, pos))\n",
        "                continue\n",
        "            morph = {el.split('=')[0]: el.split('=')[1] for el in feats.split('|')}\n",
        "            if 'Case' not in morph or 'Number' not in morph:\n",
        "                tagged_propn.append('%s_%s' % (lemma, pos))\n",
        "                continue\n",
        "            if not named:\n",
        "                named = True\n",
        "                mem_case = morph['Case']\n",
        "                mem_number = morph['Number']\n",
        "            if morph['Case'] == mem_case and morph['Number'] == mem_number:\n",
        "                memory.append(lemma)\n",
        "                if 'SpacesAfter=\\\\n' in misc or 'SpacesAfter=\\s\\\\n' in misc:\n",
        "                    named = False\n",
        "                    past_lemma = '::'.join(memory)\n",
        "                    memory = []\n",
        "                    tagged_propn.append(past_lemma + '_PROPN')\n",
        "            else:\n",
        "                named = False\n",
        "                past_lemma = '::'.join(memory)\n",
        "                memory = []\n",
        "                tagged_propn.append(past_lemma + '_PROPN')\n",
        "                tagged_propn.append('%s_%s' % (lemma, pos))\n",
        "        else:\n",
        "            if not named:\n",
        "                if pos == 'NUM' and token.isdigit():  # Заменяем числа на xxxxx той же длины\n",
        "                    lemma = num_replace(token)\n",
        "                tagged_propn.append('%s_%s' % (lemma, pos))\n",
        "            else:\n",
        "                named = False\n",
        "                past_lemma = '::'.join(memory)\n",
        "                memory = []\n",
        "                tagged_propn.append(past_lemma + '_PROPN')\n",
        "                tagged_propn.append('%s_%s' % (lemma, pos))\n",
        "\n",
        "    if not keep_punct:\n",
        "        tagged_propn = [word for word in tagged_propn if word.split('_')[1] != 'PUNCT']\n",
        "    if not keep_pos:\n",
        "        tagged_propn = [word.split('_')[0] for word in tagged_propn]\n",
        "    return tagged_propn"
      ],
      "execution_count": null,
      "outputs": []
    },
    {
      "cell_type": "code",
      "metadata": {
        "id": "wTFGZgW8MGkj"
      },
      "source": [
        "def tokenizing(text):\n",
        "\n",
        "  tokens = list(tokenize(text))\n",
        "  tokens = [_.text for _ in tokens]\n",
        "  # tokens = [word.lower() for word in tokens if word.lower() not in russian_stopwords]\n",
        "  tokens = [(word.translate(str.maketrans('', '', punctuation))) for word in tokens]\n",
        "  tokens = [token.lower() for token in tokens if token != '']\n",
        "\n",
        "  return tokens"
      ],
      "execution_count": null,
      "outputs": []
    },
    {
      "cell_type": "code",
      "metadata": {
        "id": "SAQju1cyrwo_"
      },
      "source": [
        "def make_grammar(result: list,tokens: list):\n",
        "  \n",
        "  grammar_phrase = []\n",
        "\n",
        "  poses = ['NOUN', 'NPRO', 'ADJF', 'ADJS', 'INFN', 'VERB',\n",
        "             'PRTF', 'PRTS', 'GRND', 'NUMR', 'ADVB']\n",
        "\n",
        "  if len(result) == len(tokens):\n",
        "    for i,el in enumerate(result):\n",
        "      morph_input = morph.parse(tokens[i])[0]\n",
        "      morph_output = morph.parse(result[i])[0]\n",
        "      p = morph_input\n",
        "      tags = [morph_input.tag.gender, morph_input.tag.number,\n",
        "              morph_input.tag.case, morph_input.tag.tense,\n",
        "              morph_input.tag.mood, morph_input.tag.person]\n",
        "      if p.tag.POS == 'NOUN':\n",
        "        # не будем пытаться приписывать существительному гендер, к которому оно не принадлежит\n",
        "        tags_input = set([tag for tag in tags[1:] if tag != None])\n",
        "      else:\n",
        "        tags_input = set([tag for tag in tags if tag != None])\n",
        "      try: \n",
        "        grammar_word = morph_output.inflect(tags_input).word\n",
        "      except AttributeError:\n",
        "        grammar_word = p.word\n",
        "\n",
        "      grammar_phrase.append(grammar_word)\n",
        "  else:\n",
        "    grammar_phrase = tokens\n",
        "\n",
        "\n",
        "\n",
        "  return \" \".join(grammar_phrase)\n",
        "\n",
        "# к сожалению, вместо наречий всегда будут существительные в начальных формах, т.к\n",
        "# Parse(word='вечером', tag=OpencorporaTag('ADVB'), normal_form='вечером', score=0.882882, methods_stack=((DictionaryAnalyzer(), 'вечером', 3, 0),))\n",
        "# из NOUN нельзя сделать ADVB в inflect()"
      ],
      "execution_count": null,
      "outputs": []
    },
    {
      "cell_type": "code",
      "metadata": {
        "id": "tALn7ayhzqO0",
        "outputId": "05e127d4-51a6-4788-dd4c-359e85454a6a",
        "colab": {
          "base_uri": "https://localhost:8080/",
          "height": 35
        }
      },
      "source": [
        "# функция заменяет слова во входном предложении их ближайшими семантическими ассоциатами \n",
        "\n",
        "def augment_word2vec(sentence, model):\n",
        "    tokens = tokenizing(sentence) \n",
        "    tokens_pos = process(text=sentence)\n",
        "    result = []\n",
        "    for word in tokens_pos:\n",
        "        pos = word.split('_')[1]\n",
        "        try:\n",
        "          result.append(model.similar_by_word(word)[0][0])\n",
        "        # на предлогах падает, так как не находит синонимов\n",
        "        except KeyError:\n",
        "          result.append(word.split('_')[0])\n",
        "\n",
        "    result = [x.split('_')[0] for x in result] # -> слова, которые нужно поставить в нужную форму = полученный синоним в начальной форме\n",
        "\n",
        "    return make_grammar(result,tokens)\n",
        "\n",
        "\n",
        "# немного Есенина\n",
        "sentence = \"\"\"И надо мной звезда горит,\n",
        "              Но тускло светится в тумане,\n",
        "              И мне широкий путь лежит,\n",
        "              Но он заросший весь в бурьяне.\"\"\"\n",
        "\n",
        "augment_word2vec(sentence,model = word_vectors) # -> и надо мной небосвод пылает но тусклый мерцает в мгле и мне узкий путь лежит но он зараставший весь в крапиве"
      ],
      "execution_count": null,
      "outputs": [
        {
          "output_type": "execute_result",
          "data": {
            "application/vnd.google.colaboratory.intrinsic+json": {
              "type": "string"
            },
            "text/plain": [
              "'и надо мной небосвод пылает но тусклый мерцает в мгле и мне узкий путь лежит но он зараставший весь в крапиве'"
            ]
          },
          "metadata": {
            "tags": []
          },
          "execution_count": 19
        }
      ]
    },
    {
      "cell_type": "markdown",
      "metadata": {
        "id": "4ayiG93hcLYX"
      },
      "source": [
        "# Блок 2: Регрессия; Medium Stories (до 8 баллов)\n",
        "\n",
        "Датасет можно скачать [здесь](https://yadi.sk/d/90JykTO48fL6qw) или со страницы кегли. Можно взять подвыборку.\n",
        "\n",
        "\n",
        "\n",
        "Подзадачи:\n",
        "\n",
        "1.   Эксплоративный анализ данных (1 балл)\n",
        "2.   Отбор важных признаков, поиск гиперпараметров, минимизация переобучения (2 балла)\n",
        "3.   Адаптация аугментации данных с заменой слов (1 балл)\n",
        "4.   Конструирование текстовых признаков (2 балла)\n",
        "5.   Сравнение качества моделей, выбор наилучшей (1 балл)\n",
        "6.   Анализ ошибок (1 балл)  "
      ]
    },
    {
      "cell_type": "code",
      "metadata": {
        "id": "AJ2KyL8DcNuv"
      },
      "source": [
        "import os \n",
        "import pandas as pd\n",
        "import matplotlib.pyplot as plt\n",
        "import seaborn as sns\n",
        "import numpy as np"
      ],
      "execution_count": 5,
      "outputs": []
    },
    {
      "cell_type": "code",
      "metadata": {
        "id": "U6qeT5oXgt1b",
        "outputId": "e818553f-39c5-4f6b-9da2-b9d5a0dec721",
        "colab": {
          "base_uri": "https://localhost:8080/",
          "height": 190
        }
      },
      "source": [
        "# можно не использовать колонки с тегами\n",
        "usecols = [\"Title\", \"Subtitle\", \"Image\", \"Author\", \"Publication\", \"Year\", \"Month\", \"Day\", \"Reading_Time\", \"Claps\", \"url\", \"Author_url\"]\n",
        "\n",
        "data = pd.read_csv(\"/content/drive/My Drive/PROGA/4_year/hw4/Medium_Clean.csv\", sep=\",\", usecols=usecols)\n",
        "data[\"Claps\"] = data[\"Claps\"].astype(int)\n",
        "data.head(2)"
      ],
      "execution_count": 6,
      "outputs": [
        {
          "output_type": "stream",
          "text": [
            "/usr/local/lib/python3.6/dist-packages/IPython/core/interactiveshell.py:2718: DtypeWarning: Columns (5) have mixed types.Specify dtype option on import or set low_memory=False.\n",
            "  interactivity=interactivity, compiler=compiler, result=result)\n"
          ],
          "name": "stderr"
        },
        {
          "output_type": "execute_result",
          "data": {
            "text/html": [
              "<div>\n",
              "<style scoped>\n",
              "    .dataframe tbody tr th:only-of-type {\n",
              "        vertical-align: middle;\n",
              "    }\n",
              "\n",
              "    .dataframe tbody tr th {\n",
              "        vertical-align: top;\n",
              "    }\n",
              "\n",
              "    .dataframe thead th {\n",
              "        text-align: right;\n",
              "    }\n",
              "</style>\n",
              "<table border=\"1\" class=\"dataframe\">\n",
              "  <thead>\n",
              "    <tr style=\"text-align: right;\">\n",
              "      <th></th>\n",
              "      <th>Title</th>\n",
              "      <th>Subtitle</th>\n",
              "      <th>Image</th>\n",
              "      <th>Author</th>\n",
              "      <th>Publication</th>\n",
              "      <th>Year</th>\n",
              "      <th>Month</th>\n",
              "      <th>Day</th>\n",
              "      <th>Reading_Time</th>\n",
              "      <th>Claps</th>\n",
              "      <th>url</th>\n",
              "      <th>Author_url</th>\n",
              "    </tr>\n",
              "  </thead>\n",
              "  <tbody>\n",
              "    <tr>\n",
              "      <th>0</th>\n",
              "      <td>Online Animation: Mixamo vs Norah AI</td>\n",
              "      <td>Online animations tools provide game designers...</td>\n",
              "      <td>1</td>\n",
              "      <td>Emma Laurent</td>\n",
              "      <td>NaN</td>\n",
              "      <td>2017</td>\n",
              "      <td>8</td>\n",
              "      <td>1</td>\n",
              "      <td>5</td>\n",
              "      <td>12</td>\n",
              "      <td>https://medium.com/@laurentemma/online-animati...</td>\n",
              "      <td>https://medium.com/@laurentemma</td>\n",
              "    </tr>\n",
              "    <tr>\n",
              "      <th>1</th>\n",
              "      <td>A.I. ?</td>\n",
              "      <td>NaN</td>\n",
              "      <td>0</td>\n",
              "      <td>Sanparith Marukatat</td>\n",
              "      <td>NaN</td>\n",
              "      <td>2017</td>\n",
              "      <td>8</td>\n",
              "      <td>1</td>\n",
              "      <td>2</td>\n",
              "      <td>11</td>\n",
              "      <td>https://medium.com/@sanparithmarukatat/a-i-%E0...</td>\n",
              "      <td>https://medium.com/@sanparithmarukatat</td>\n",
              "    </tr>\n",
              "  </tbody>\n",
              "</table>\n",
              "</div>"
            ],
            "text/plain": [
              "                                  Title  ...                              Author_url\n",
              "0  Online Animation: Mixamo vs Norah AI  ...         https://medium.com/@laurentemma\n",
              "1                                A.I. ?  ...  https://medium.com/@sanparithmarukatat\n",
              "\n",
              "[2 rows x 12 columns]"
            ]
          },
          "metadata": {
            "tags": []
          },
          "execution_count": 6
        }
      ]
    },
    {
      "cell_type": "code",
      "metadata": {
        "id": "32O_nlJtI0l1"
      },
      "source": [
        "data = data.dropna()"
      ],
      "execution_count": 7,
      "outputs": []
    },
    {
      "cell_type": "markdown",
      "metadata": {
        "id": "NAV_w9pQz0rc"
      },
      "source": [
        "### Эксплоративный анализ данных. Посмотрим, например, на зависимость выхода статьи от месяца, а также на среднюю продолжительность чтения статей."
      ]
    },
    {
      "cell_type": "code",
      "metadata": {
        "id": "2vA82oX2HPHJ",
        "outputId": "d7d2d8c8-0933-4824-9bd5-2961e7348fa9",
        "colab": {
          "base_uri": "https://localhost:8080/",
          "height": 284
        }
      },
      "source": [
        "data.describe()"
      ],
      "execution_count": 34,
      "outputs": [
        {
          "output_type": "execute_result",
          "data": {
            "text/html": [
              "<div>\n",
              "<style scoped>\n",
              "    .dataframe tbody tr th:only-of-type {\n",
              "        vertical-align: middle;\n",
              "    }\n",
              "\n",
              "    .dataframe tbody tr th {\n",
              "        vertical-align: top;\n",
              "    }\n",
              "\n",
              "    .dataframe thead th {\n",
              "        text-align: right;\n",
              "    }\n",
              "</style>\n",
              "<table border=\"1\" class=\"dataframe\">\n",
              "  <thead>\n",
              "    <tr style=\"text-align: right;\">\n",
              "      <th></th>\n",
              "      <th>Image</th>\n",
              "      <th>Year</th>\n",
              "      <th>Month</th>\n",
              "      <th>Day</th>\n",
              "      <th>Reading_Time</th>\n",
              "      <th>Claps</th>\n",
              "    </tr>\n",
              "  </thead>\n",
              "  <tbody>\n",
              "    <tr>\n",
              "      <th>count</th>\n",
              "      <td>271011.000000</td>\n",
              "      <td>271011.000000</td>\n",
              "      <td>271011.000000</td>\n",
              "      <td>271011.000000</td>\n",
              "      <td>271011.000000</td>\n",
              "      <td>271011.000000</td>\n",
              "    </tr>\n",
              "    <tr>\n",
              "      <th>mean</th>\n",
              "      <td>0.671113</td>\n",
              "      <td>2017.590197</td>\n",
              "      <td>6.460033</td>\n",
              "      <td>15.659674</td>\n",
              "      <td>3.975400</td>\n",
              "      <td>217.876809</td>\n",
              "    </tr>\n",
              "    <tr>\n",
              "      <th>std</th>\n",
              "      <td>0.469810</td>\n",
              "      <td>0.491798</td>\n",
              "      <td>3.430337</td>\n",
              "      <td>8.822305</td>\n",
              "      <td>3.256406</td>\n",
              "      <td>1500.161247</td>\n",
              "    </tr>\n",
              "    <tr>\n",
              "      <th>min</th>\n",
              "      <td>0.000000</td>\n",
              "      <td>2017.000000</td>\n",
              "      <td>1.000000</td>\n",
              "      <td>1.000000</td>\n",
              "      <td>0.000000</td>\n",
              "      <td>0.000000</td>\n",
              "    </tr>\n",
              "    <tr>\n",
              "      <th>25%</th>\n",
              "      <td>0.000000</td>\n",
              "      <td>2017.000000</td>\n",
              "      <td>3.000000</td>\n",
              "      <td>8.000000</td>\n",
              "      <td>2.000000</td>\n",
              "      <td>0.000000</td>\n",
              "    </tr>\n",
              "    <tr>\n",
              "      <th>50%</th>\n",
              "      <td>1.000000</td>\n",
              "      <td>2018.000000</td>\n",
              "      <td>6.000000</td>\n",
              "      <td>16.000000</td>\n",
              "      <td>3.000000</td>\n",
              "      <td>19.000000</td>\n",
              "    </tr>\n",
              "    <tr>\n",
              "      <th>75%</th>\n",
              "      <td>1.000000</td>\n",
              "      <td>2018.000000</td>\n",
              "      <td>9.000000</td>\n",
              "      <td>23.000000</td>\n",
              "      <td>5.000000</td>\n",
              "      <td>128.000000</td>\n",
              "    </tr>\n",
              "    <tr>\n",
              "      <th>max</th>\n",
              "      <td>1.000000</td>\n",
              "      <td>2018.000000</td>\n",
              "      <td>12.000000</td>\n",
              "      <td>31.000000</td>\n",
              "      <td>207.000000</td>\n",
              "      <td>291000.000000</td>\n",
              "    </tr>\n",
              "  </tbody>\n",
              "</table>\n",
              "</div>"
            ],
            "text/plain": [
              "               Image           Year  ...   Reading_Time          Claps\n",
              "count  271011.000000  271011.000000  ...  271011.000000  271011.000000\n",
              "mean        0.671113    2017.590197  ...       3.975400     217.876809\n",
              "std         0.469810       0.491798  ...       3.256406    1500.161247\n",
              "min         0.000000    2017.000000  ...       0.000000       0.000000\n",
              "25%         0.000000    2017.000000  ...       2.000000       0.000000\n",
              "50%         1.000000    2018.000000  ...       3.000000      19.000000\n",
              "75%         1.000000    2018.000000  ...       5.000000     128.000000\n",
              "max         1.000000    2018.000000  ...     207.000000  291000.000000\n",
              "\n",
              "[8 rows x 6 columns]"
            ]
          },
          "metadata": {
            "tags": []
          },
          "execution_count": 34
        }
      ]
    },
    {
      "cell_type": "code",
      "metadata": {
        "id": "NspAZkIVzj0z",
        "outputId": "71029023-4aa9-4a38-d72c-7089c88798f5",
        "colab": {
          "base_uri": "https://localhost:8080/",
          "height": 406
        }
      },
      "source": [
        "# Посмотрим, какое количество текстов было опубликовано в разное время (каждый месяц за эти два года)\n",
        "\n",
        "years = list(data.Year.unique())\n",
        "months = list(data.Month.unique())\n",
        "\n",
        "d = []\n",
        "\n",
        "for year in years:\n",
        "    for month in sorted(months):\n",
        "        counts = data[(data.Year==year)&(data.Month==month)].shape[0]\n",
        "        date = str(month)+\" / \"+str(year)\n",
        "        if counts != 0:\n",
        "            d.append((counts,date))\n",
        "\n",
        "print(d)\n",
        "x = [x[1] for x in d]\n",
        "y = [y[0] for y in d]\n",
        "print(x)\n",
        "print(y)\n",
        "\n",
        "plt.figure(figsize=(12,4))\n",
        "plt.bar(x, y, color = \"mediumseagreen\")\n",
        "plt.title(\"Articles Scraped per Month / Year\", fontsize=14)\n",
        "plt.ylabel(\"# Articles\")\n",
        "plt.yticks([0,20000,40000,60000,80000,100000,120000],\n",
        "           [\"0\", \"20k\",\"40k\",\"60k\",\"80k\",\"100k\", \"120k\"])\n",
        "plt.xticks(rotation=90, fontsize=13)\n",
        "plt.show()"
      ],
      "execution_count": 31,
      "outputs": [
        {
          "output_type": "stream",
          "text": [
            "[(106866, '8 / 2017'), (108412, '9 / 2017'), (115141, '10 / 2017'), (110957, '11 / 2017'), (104165, '12 / 2017'), (120020, '1 / 2018'), (109261, '2 / 2018'), (124000, '3 / 2018'), (120579, '4 / 2018'), (121348, '5 / 2018'), (118283, '6 / 2018'), (127299, '7 / 2018'), (4702, '8 / 2018')]\n",
            "['8 / 2017', '9 / 2017', '10 / 2017', '11 / 2017', '12 / 2017', '1 / 2018', '2 / 2018', '3 / 2018', '4 / 2018', '5 / 2018', '6 / 2018', '7 / 2018', '8 / 2018']\n",
            "[106866, 108412, 115141, 110957, 104165, 120020, 109261, 124000, 120579, 121348, 118283, 127299, 4702]\n"
          ],
          "name": "stdout"
        },
        {
          "output_type": "display_data",
          "data": {
            "image/png": "[encoded data removed]",
            "text/plain": [
              "<Figure size 864x288 with 1 Axes>"
            ]
          },
          "metadata": {
            "tags": [],
            "needs_background": "light"
          }
        }
      ]
    },
    {
      "cell_type": "code",
      "metadata": {
        "id": "QVgGlBUxMG_0",
        "outputId": "ac2ae79a-99ff-43cd-85d7-6ef1cf5ec3f7",
        "colab": {
          "base_uri": "https://localhost:8080/",
          "height": 354
        }
      },
      "source": [
        "# Сколько времени уходит в среднем на статью\n",
        "\n",
        "avs=[]\n",
        "medians=[]\n",
        "total_cs = []\n",
        "readts=[]\n",
        "entries = []\n",
        "for x in range(15):\n",
        "    medians.append(data[data.Reading_Time==x].Claps.quantile(q=0.5))\n",
        "    readts.append(x)\n",
        "    entries.append(data[data.Reading_Time==x].shape[0])\n",
        "    total_cs.append(data[data.Reading_Time==x].Claps.sum())\n",
        "\n",
        "plt.figure(figsize=(12,5))\n",
        "plt.bar(readts,entries, color=\"mediumseagreen\")\n",
        "plt.vlines(data.Reading_Time.median(),0,350000,\n",
        "           color=\"black\",\n",
        "           linestyle=\"dashed\",\n",
        "           label=\"Медиана времени чтения\")\n",
        "plt.title(\"Среднее время чтения статьи\", fontsize=14)\n",
        "#plt.yticks([0,100000,200000,300000], [\"0\",\"100k\", \"200k\", \"300k\"])\n",
        "plt.yticks([])\n",
        "plt.ylim(0,350000)\n",
        "plt.ylabel(\"Articles\")\n",
        "plt.xlabel(\"Минуты\", fontsize=13)\n",
        "plt.legend()\n",
        "\n",
        "plt.show()"
      ],
      "execution_count": 32,
      "outputs": [
        {
          "output_type": "display_data",
          "data": {
            "image/png": "[encoded data removed]",
            "text/plain": [
              "<Figure size 864x360 with 1 Axes>"
            ]
          },
          "metadata": {
            "tags": [],
            "needs_background": "light"
          }
        }
      ]
    },
    {
      "cell_type": "code",
      "metadata": {
        "id": "F1fQkIj5Wk-m",
        "outputId": "29e55cf5-d2ad-4bf5-a7b8-3a9c386ef61b",
        "colab": {
          "base_uri": "https://localhost:8080/",
          "height": 346
        }
      },
      "source": [
        "# Посмотрим корреляцию\n",
        "sns.heatmap(data.corr(), annot=True)\n",
        "\n",
        "# Видно, что на лайки влияет время чтения статьи "
      ],
      "execution_count": 35,
      "outputs": [
        {
          "output_type": "execute_result",
          "data": {
            "text/plain": [
              "<matplotlib.axes._subplots.AxesSubplot at 0x7fd2238735c0>"
            ]
          },
          "metadata": {
            "tags": []
          },
          "execution_count": 35
        },
        {
          "output_type": "display_data",
          "data": {
            "image/png": "[encoded data removed]",
            "text/plain": [
              "<Figure size 432x288 with 2 Axes>"
            ]
          },
          "metadata": {
            "tags": [],
            "needs_background": "light"
          }
        }
      ]
    },
    {
      "cell_type": "markdown",
      "metadata": {
        "id": "OI2MnC6caL3V"
      },
      "source": [
        "### Для конструирования текстовых признаков возьмем\n",
        "1. Количество предложений\n",
        "2. Количество токенов\n",
        "3. Количество стоп слов\n",
        "4. Количество сущностей"
      ]
    },
    {
      "cell_type": "code",
      "metadata": {
        "id": "_j_8hqmS0is1"
      },
      "source": [
        "# Для обучения возьмем title и subtitle, каждый из них очень маленький\n",
        "\n",
        "title = list(data['Title'])\n",
        "subtitle = list(data['Subtitle'])\n",
        "\n",
        "texts = []\n",
        "for i,el in enumerate(title):\n",
        "  text = str(title[i]) + '. ' +  str(subtitle[i])\n",
        "  texts.append(text)\n",
        "\n",
        "data['texts'] = texts"
      ],
      "execution_count": 10,
      "outputs": []
    },
    {
      "cell_type": "code",
      "metadata": {
        "id": "dBf4XaeVJB-X"
      },
      "source": [
        "# Gensim\n",
        "import gensim\n",
        "from gensim.utils import simple_preprocess\n",
        "\n",
        "import re\n",
        "import nltk\n",
        "nltk.download('stopwords')\n",
        "from nltk.corpus import stopwords\n",
        "stop_words = stopwords.words('english')\n",
        "\n",
        "\n",
        "def eng_preprocessing(text):\n",
        "    # Tokenization + lowercase + remove punctiation\n",
        "    text = gensim.utils.simple_preprocess(str(text), deacc=True)\n",
        "    \n",
        "    # Remove stopwords\n",
        "    text = [word for word in text if word not in stop_words]\n",
        "    \n",
        "    \n",
        "    return text\n",
        "\n",
        "texts = list(data['texts'])"
      ],
      "execution_count": null,
      "outputs": []
    },
    {
      "cell_type": "code",
      "metadata": {
        "id": "imiu8tF2edt2"
      },
      "source": [
        "import gensim\n",
        "from gensim.utils import simple_preprocess"
      ],
      "execution_count": 17,
      "outputs": []
    },
    {
      "cell_type": "code",
      "metadata": {
        "id": "RaXZGqu3IJDA",
        "outputId": "93c7f467-eb3f-4e17-fc3c-c111a28cd4e8",
        "colab": {
          "base_uri": "https://localhost:8080/",
          "height": 241
        }
      },
      "source": [
        "data['len_tokens'] = [len(eng_preprocessing(text)) for text in texts]\n",
        "data.head(2)"
      ],
      "execution_count": 18,
      "outputs": [
        {
          "output_type": "execute_result",
          "data": {
            "text/html": [
              "<div>\n",
              "<style scoped>\n",
              "    .dataframe tbody tr th:only-of-type {\n",
              "        vertical-align: middle;\n",
              "    }\n",
              "\n",
              "    .dataframe tbody tr th {\n",
              "        vertical-align: top;\n",
              "    }\n",
              "\n",
              "    .dataframe thead th {\n",
              "        text-align: right;\n",
              "    }\n",
              "</style>\n",
              "<table border=\"1\" class=\"dataframe\">\n",
              "  <thead>\n",
              "    <tr style=\"text-align: right;\">\n",
              "      <th></th>\n",
              "      <th>Title</th>\n",
              "      <th>Subtitle</th>\n",
              "      <th>Image</th>\n",
              "      <th>Author</th>\n",
              "      <th>Publication</th>\n",
              "      <th>Year</th>\n",
              "      <th>Month</th>\n",
              "      <th>Day</th>\n",
              "      <th>Reading_Time</th>\n",
              "      <th>Claps</th>\n",
              "      <th>url</th>\n",
              "      <th>Author_url</th>\n",
              "      <th>texts</th>\n",
              "      <th>len_tokens</th>\n",
              "    </tr>\n",
              "  </thead>\n",
              "  <tbody>\n",
              "    <tr>\n",
              "      <th>3</th>\n",
              "      <td>The Value Generated through AI led Mindfulness</td>\n",
              "      <td>A true product co-created by the Millennials</td>\n",
              "      <td>1</td>\n",
              "      <td>Emiko Sawaguchi</td>\n",
              "      <td>MILLENNIALSTIMES</td>\n",
              "      <td>2017</td>\n",
              "      <td>8</td>\n",
              "      <td>1</td>\n",
              "      <td>5</td>\n",
              "      <td>4</td>\n",
              "      <td>https://millennials-times.com/creativeflower-e...</td>\n",
              "      <td>https://millennials-times.com/@emikosawaguchi</td>\n",
              "      <td>The Value Generated through AI led Mindfulness...</td>\n",
              "      <td>10</td>\n",
              "    </tr>\n",
              "    <tr>\n",
              "      <th>4</th>\n",
              "      <td>Os Melhores Links de JulhoCmeras Vintage, Goog...</td>\n",
              "      <td>mas pera a?</td>\n",
              "      <td>1</td>\n",
              "      <td>Giovani Ferreira</td>\n",
              "      <td>NEW ORDER</td>\n",
              "      <td>2017</td>\n",
              "      <td>8</td>\n",
              "      <td>1</td>\n",
              "      <td>3</td>\n",
              "      <td>56</td>\n",
              "      <td>https://medium.com/neworder/os-melhores-links-...</td>\n",
              "      <td>https://medium.com/@gferreira</td>\n",
              "      <td>Os Melhores Links de JulhoCmeras Vintage, Goog...</td>\n",
              "      <td>13</td>\n",
              "    </tr>\n",
              "  </tbody>\n",
              "</table>\n",
              "</div>"
            ],
            "text/plain": [
              "                                               Title  ... len_tokens\n",
              "3     The Value Generated through AI led Mindfulness  ...         10\n",
              "4  Os Melhores Links de JulhoCmeras Vintage, Goog...  ...         13\n",
              "\n",
              "[2 rows x 14 columns]"
            ]
          },
          "metadata": {
            "tags": []
          },
          "execution_count": 18
        }
      ]
    },
    {
      "cell_type": "code",
      "metadata": {
        "id": "7fXNYV2PJBhQ"
      },
      "source": [
        "from nltk.tokenize import sent_tokenize\n",
        "data['len_sents'] = [len(sent_tokenize(text)) for text in texts]"
      ],
      "execution_count": 19,
      "outputs": []
    },
    {
      "cell_type": "code",
      "metadata": {
        "id": "CiTLwXWoKboc",
        "outputId": "6726a8e4-05a2-4b2e-ff42-9072df47ed97",
        "colab": {
          "base_uri": "https://localhost:8080/"
        }
      },
      "source": [
        "data.len_sents.value_counts()"
      ],
      "execution_count": 20,
      "outputs": [
        {
          "output_type": "execute_result",
          "data": {
            "text/plain": [
              "2     190348\n",
              "3      52347\n",
              "4      16351\n",
              "1       5446\n",
              "5       4634\n",
              "6       1295\n",
              "7        365\n",
              "8        129\n",
              "9         50\n",
              "10        24\n",
              "11         7\n",
              "12         6\n",
              "13         5\n",
              "17         2\n",
              "14         2\n",
              "Name: len_sents, dtype: int64"
            ]
          },
          "metadata": {
            "tags": []
          },
          "execution_count": 20
        }
      ]
    },
    {
      "cell_type": "code",
      "metadata": {
        "id": "5bur57bXMGH1"
      },
      "source": [
        "stops = []\n",
        "for text in texts:\n",
        "  i = 0\n",
        "  tokens = gensim.utils.simple_preprocess(str(text), deacc=True)\n",
        "  for token in tokens:\n",
        "    if token in stop_words:\n",
        "      i+=1\n",
        "  stops.append(i)\n",
        "      \n",
        "data['stops'] = stops"
      ],
      "execution_count": 21,
      "outputs": []
    },
    {
      "cell_type": "code",
      "metadata": {
        "id": "f1h3NB80M-cz",
        "outputId": "a53a5491-e771-4b55-e3e9-387f328eba4b",
        "colab": {
          "base_uri": "https://localhost:8080/",
          "height": 278
        }
      },
      "source": [
        "data.head(2)"
      ],
      "execution_count": 22,
      "outputs": [
        {
          "output_type": "execute_result",
          "data": {
            "text/html": [
              "<div>\n",
              "<style scoped>\n",
              "    .dataframe tbody tr th:only-of-type {\n",
              "        vertical-align: middle;\n",
              "    }\n",
              "\n",
              "    .dataframe tbody tr th {\n",
              "        vertical-align: top;\n",
              "    }\n",
              "\n",
              "    .dataframe thead th {\n",
              "        text-align: right;\n",
              "    }\n",
              "</style>\n",
              "<table border=\"1\" class=\"dataframe\">\n",
              "  <thead>\n",
              "    <tr style=\"text-align: right;\">\n",
              "      <th></th>\n",
              "      <th>Title</th>\n",
              "      <th>Subtitle</th>\n",
              "      <th>Image</th>\n",
              "      <th>Author</th>\n",
              "      <th>Publication</th>\n",
              "      <th>Year</th>\n",
              "      <th>Month</th>\n",
              "      <th>Day</th>\n",
              "      <th>Reading_Time</th>\n",
              "      <th>Claps</th>\n",
              "      <th>url</th>\n",
              "      <th>Author_url</th>\n",
              "      <th>texts</th>\n",
              "      <th>len_tokens</th>\n",
              "      <th>len_sents</th>\n",
              "      <th>stops</th>\n",
              "    </tr>\n",
              "  </thead>\n",
              "  <tbody>\n",
              "    <tr>\n",
              "      <th>3</th>\n",
              "      <td>The Value Generated through AI led Mindfulness</td>\n",
              "      <td>A true product co-created by the Millennials</td>\n",
              "      <td>1</td>\n",
              "      <td>Emiko Sawaguchi</td>\n",
              "      <td>MILLENNIALSTIMES</td>\n",
              "      <td>2017</td>\n",
              "      <td>8</td>\n",
              "      <td>1</td>\n",
              "      <td>5</td>\n",
              "      <td>4</td>\n",
              "      <td>https://millennials-times.com/creativeflower-e...</td>\n",
              "      <td>https://millennials-times.com/@emikosawaguchi</td>\n",
              "      <td>The Value Generated through AI led Mindfulness...</td>\n",
              "      <td>10</td>\n",
              "      <td>2</td>\n",
              "      <td>4</td>\n",
              "    </tr>\n",
              "    <tr>\n",
              "      <th>4</th>\n",
              "      <td>Os Melhores Links de JulhoCmeras Vintage, Goog...</td>\n",
              "      <td>mas pera a?</td>\n",
              "      <td>1</td>\n",
              "      <td>Giovani Ferreira</td>\n",
              "      <td>NEW ORDER</td>\n",
              "      <td>2017</td>\n",
              "      <td>8</td>\n",
              "      <td>1</td>\n",
              "      <td>3</td>\n",
              "      <td>56</td>\n",
              "      <td>https://medium.com/neworder/os-melhores-links-...</td>\n",
              "      <td>https://medium.com/@gferreira</td>\n",
              "      <td>Os Melhores Links de JulhoCmeras Vintage, Goog...</td>\n",
              "      <td>13</td>\n",
              "      <td>2</td>\n",
              "      <td>0</td>\n",
              "    </tr>\n",
              "  </tbody>\n",
              "</table>\n",
              "</div>"
            ],
            "text/plain": [
              "                                               Title  ... stops\n",
              "3     The Value Generated through AI led Mindfulness  ...     4\n",
              "4  Os Melhores Links de JulhoCmeras Vintage, Goog...  ...     0\n",
              "\n",
              "[2 rows x 16 columns]"
            ]
          },
          "metadata": {
            "tags": []
          },
          "execution_count": 22
        }
      ]
    },
    {
      "cell_type": "code",
      "metadata": {
        "id": "-OttG-LaNKxY"
      },
      "source": [
        "nltk.download('punkt')\n",
        "nltk.download('averaged_perceptron_tagger')\n",
        "nltk.download('maxent_ne_chunker')\n",
        "nltk.download('words')"
      ],
      "execution_count": null,
      "outputs": []
    },
    {
      "cell_type": "code",
      "metadata": {
        "id": "reD29pwbNXMT"
      },
      "source": [
        "from tqdm import tqdm \n",
        "\n",
        "ner = []\n",
        "for text in tqdm(texts):\n",
        "  i = 0\n",
        "  for sent in nltk.sent_tokenize(text):\n",
        "    for chunk in nltk.ne_chunk(nltk.pos_tag(nltk.word_tokenize(sent))):\n",
        "      if hasattr(chunk, 'label'):\n",
        "        i+=1\n",
        "  ner.append(i)\n",
        "\n",
        "len(ner)\n",
        "\n",
        "# очень долго работает, если не забуду, в конце сделаю\n",
        "# data['ner'] = ner"
      ],
      "execution_count": null,
      "outputs": []
    },
    {
      "cell_type": "markdown",
      "metadata": {
        "id": "eoVcK7HlQ0wI"
      },
      "source": [
        "### Адаптация аугментации данных с заменой слов"
      ]
    },
    {
      "cell_type": "code",
      "metadata": {
        "id": "Pw2pl35FQ2Ve"
      },
      "source": [
        "!wget -c http://vectors.nlpl.eu/repository/20/5.zip"
      ],
      "execution_count": null,
      "outputs": []
    },
    {
      "cell_type": "code",
      "metadata": {
        "id": "ZD0wj9OWRPE5"
      },
      "source": [
        "!unzip -q '/content/5.zipny'"
      ],
      "execution_count": null,
      "outputs": []
    },
    {
      "cell_type": "code",
      "metadata": {
        "id": "HntYrR4FVLDa"
      },
      "source": [
        "nltk.download('wordnet')"
      ],
      "execution_count": null,
      "outputs": []
    },
    {
      "cell_type": "code",
      "metadata": {
        "id": "b6XI5t6NRsfO"
      },
      "source": [
        "model_eng = gensim.models.KeyedVectors.load_word2vec_format(\"model.bin\", binary=True)\n",
        "model_eng.init_sims(replace=True)"
      ],
      "execution_count": 91,
      "outputs": []
    },
    {
      "cell_type": "code",
      "metadata": {
        "id": "35vJfGovRtvr"
      },
      "source": [
        "from nltk.stem import WordNetLemmatizer \n",
        "lemmatizer = WordNetLemmatizer()\n",
        "\n",
        "def augment_word2vec_eng(sentence, model=model_eng):\n",
        "\n",
        "    tokens = gensim.utils.simple_preprocess(str(sentence), deacc=True)\n",
        "    new_sent = []\n",
        "    for token in tokens:\n",
        "        lem = lemmatizer.lemmatize(token)\n",
        "        if lem in model:\n",
        "            new_token = model.most_similar(lem)[0]\n",
        "            new_sent.append(str(new_token[0]))\n",
        "        else:\n",
        "            new_sent.append(str(token)) \n",
        "    return new_sent\n"
      ],
      "execution_count": null,
      "outputs": []
    },
    {
      "cell_type": "code",
      "metadata": {
        "id": "CiKJhwWaVhT0"
      },
      "source": [
        "# возьмем только 1000 текстов для аугментации, функция долго работает\n",
        "aug_texts = []\n",
        "for text in tqdm(texts[:1000]):\n",
        "  aug_texts.append(augment_word2vec_eng(text))"
      ],
      "execution_count": null,
      "outputs": []
    },
    {
      "cell_type": "markdown",
      "metadata": {
        "id": "Ad-KG3wgY8O5"
      },
      "source": [
        "### Отбор важных признаков, поиск гиперпараметров, минимизация переобучения (2 балла)"
      ]
    },
    {
      "cell_type": "code",
      "metadata": {
        "id": "FuumJ_vxZAvp",
        "outputId": "301b10f5-a10b-459b-eac7-eaeb55066614",
        "colab": {
          "base_uri": "https://localhost:8080/",
          "height": 278
        }
      },
      "source": [
        "data.head(2)"
      ],
      "execution_count": 29,
      "outputs": [
        {
          "output_type": "execute_result",
          "data": {
            "text/html": [
              "<div>\n",
              "<style scoped>\n",
              "    .dataframe tbody tr th:only-of-type {\n",
              "        vertical-align: middle;\n",
              "    }\n",
              "\n",
              "    .dataframe tbody tr th {\n",
              "        vertical-align: top;\n",
              "    }\n",
              "\n",
              "    .dataframe thead th {\n",
              "        text-align: right;\n",
              "    }\n",
              "</style>\n",
              "<table border=\"1\" class=\"dataframe\">\n",
              "  <thead>\n",
              "    <tr style=\"text-align: right;\">\n",
              "      <th></th>\n",
              "      <th>Title</th>\n",
              "      <th>Subtitle</th>\n",
              "      <th>Image</th>\n",
              "      <th>Author</th>\n",
              "      <th>Publication</th>\n",
              "      <th>Year</th>\n",
              "      <th>Month</th>\n",
              "      <th>Day</th>\n",
              "      <th>Reading_Time</th>\n",
              "      <th>Claps</th>\n",
              "      <th>url</th>\n",
              "      <th>Author_url</th>\n",
              "      <th>texts</th>\n",
              "      <th>len_tokens</th>\n",
              "      <th>len_sents</th>\n",
              "      <th>stops</th>\n",
              "    </tr>\n",
              "  </thead>\n",
              "  <tbody>\n",
              "    <tr>\n",
              "      <th>3</th>\n",
              "      <td>The Value Generated through AI led Mindfulness</td>\n",
              "      <td>A true product co-created by the Millennials</td>\n",
              "      <td>1</td>\n",
              "      <td>Emiko Sawaguchi</td>\n",
              "      <td>MILLENNIALSTIMES</td>\n",
              "      <td>2017</td>\n",
              "      <td>8</td>\n",
              "      <td>1</td>\n",
              "      <td>5</td>\n",
              "      <td>4</td>\n",
              "      <td>https://millennials-times.com/creativeflower-e...</td>\n",
              "      <td>https://millennials-times.com/@emikosawaguchi</td>\n",
              "      <td>The Value Generated through AI led Mindfulness...</td>\n",
              "      <td>10</td>\n",
              "      <td>2</td>\n",
              "      <td>4</td>\n",
              "    </tr>\n",
              "    <tr>\n",
              "      <th>4</th>\n",
              "      <td>Os Melhores Links de JulhoCmeras Vintage, Goog...</td>\n",
              "      <td>mas pera a?</td>\n",
              "      <td>1</td>\n",
              "      <td>Giovani Ferreira</td>\n",
              "      <td>NEW ORDER</td>\n",
              "      <td>2017</td>\n",
              "      <td>8</td>\n",
              "      <td>1</td>\n",
              "      <td>3</td>\n",
              "      <td>56</td>\n",
              "      <td>https://medium.com/neworder/os-melhores-links-...</td>\n",
              "      <td>https://medium.com/@gferreira</td>\n",
              "      <td>Os Melhores Links de JulhoCmeras Vintage, Goog...</td>\n",
              "      <td>13</td>\n",
              "      <td>2</td>\n",
              "      <td>0</td>\n",
              "    </tr>\n",
              "  </tbody>\n",
              "</table>\n",
              "</div>"
            ],
            "text/plain": [
              "                                               Title  ... stops\n",
              "3     The Value Generated through AI led Mindfulness  ...     4\n",
              "4  Os Melhores Links de JulhoCmeras Vintage, Goog...  ...     0\n",
              "\n",
              "[2 rows x 16 columns]"
            ]
          },
          "metadata": {
            "tags": []
          },
          "execution_count": 29
        }
      ]
    },
    {
      "cell_type": "code",
      "metadata": {
        "id": "Fwl4l_h-ZPqy"
      },
      "source": [
        "from sklearn.model_selection import train_test_split\n",
        "from sklearn.feature_extraction.text import TfidfVectorizer\n",
        "from sklearn.linear_model import LinearRegression, Ridge, Lasso, ElasticNet\n",
        "\n",
        "# X = data.drop(columns = ['Claps'])\n",
        "# y = data['Claps']\n",
        "# X_train, X_test, y_train, y_test = train_test_split(X, y, test_size=0.3, random_state=42)"
      ],
      "execution_count": 30,
      "outputs": []
    },
    {
      "cell_type": "code",
      "metadata": {
        "id": "0vBgGtOkbuyv"
      },
      "source": [
        "tokens = [' '.join(eng_preprocessing(text)) for text in texts]"
      ],
      "execution_count": 31,
      "outputs": []
    },
    {
      "cell_type": "code",
      "metadata": {
        "id": "y3jFFO6XcZrY"
      },
      "source": [
        "data['tokens'] = tokens"
      ],
      "execution_count": 32,
      "outputs": []
    },
    {
      "cell_type": "code",
      "metadata": {
        "id": "9mKdyxZBbQTG"
      },
      "source": [
        "train, test = train_test_split(data, train_size=0.8, shuffle=True, random_state=42)"
      ],
      "execution_count": 33,
      "outputs": []
    },
    {
      "cell_type": "code",
      "metadata": {
        "id": "p6AFrLNLaJkn",
        "outputId": "a59ce16a-846d-491f-86c4-6a6105f6d4c0",
        "colab": {
          "base_uri": "https://localhost:8080/"
        }
      },
      "source": [
        "print(train.shape, test.shape)"
      ],
      "execution_count": 34,
      "outputs": [
        {
          "output_type": "stream",
          "text": [
            "(216808, 17) (54203, 17)\n"
          ],
          "name": "stdout"
        }
      ]
    },
    {
      "cell_type": "code",
      "metadata": {
        "id": "WeXbVmvtbfJq"
      },
      "source": [
        "vectorizer = TfidfVectorizer(max_features=1000)\n",
        "X = vectorizer.fit_transform(train['tokens'])"
      ],
      "execution_count": 35,
      "outputs": []
    },
    {
      "cell_type": "code",
      "metadata": {
        "id": "JVUaZTPYcwOt",
        "outputId": "e81315ad-9ea9-4207-e37d-81509dfbadbd",
        "colab": {
          "base_uri": "https://localhost:8080/"
        }
      },
      "source": [
        "X.shape"
      ],
      "execution_count": 36,
      "outputs": [
        {
          "output_type": "execute_result",
          "data": {
            "text/plain": [
              "(216808, 1000)"
            ]
          },
          "metadata": {
            "tags": []
          },
          "execution_count": 36
        }
      ]
    },
    {
      "cell_type": "code",
      "metadata": {
        "id": "1WnzluDecz7L",
        "outputId": "135104ec-85ea-4cce-f016-0a29c65e16ef",
        "colab": {
          "base_uri": "https://localhost:8080/"
        }
      },
      "source": [
        "X.toarray().shape"
      ],
      "execution_count": 37,
      "outputs": [
        {
          "output_type": "execute_result",
          "data": {
            "text/plain": [
              "(216808, 1000)"
            ]
          },
          "metadata": {
            "tags": []
          },
          "execution_count": 37
        }
      ]
    },
    {
      "cell_type": "code",
      "metadata": {
        "id": "m3I7Ey5Yf19T"
      },
      "source": [
        "X_train = np.concatenate((X.toarray(), train[['len_tokens', 'len_sents', 'Reading_Time', 'stops', 'Image']].to_numpy()), axis=1)"
      ],
      "execution_count": 43,
      "outputs": []
    },
    {
      "cell_type": "code",
      "metadata": {
        "id": "o8z1OWH5gLr_",
        "outputId": "af79cfa4-6080-449a-a2d4-627ef598e940",
        "colab": {
          "base_uri": "https://localhost:8080/"
        }
      },
      "source": [
        "X_train.shape"
      ],
      "execution_count": 44,
      "outputs": [
        {
          "output_type": "execute_result",
          "data": {
            "text/plain": [
              "(216808, 1005)"
            ]
          },
          "metadata": {
            "tags": []
          },
          "execution_count": 44
        }
      ]
    },
    {
      "cell_type": "code",
      "metadata": {
        "id": "zLpSX1ODgbmD",
        "outputId": "cbb27b29-f910-4f26-b726-a313e19b182c",
        "colab": {
          "base_uri": "https://localhost:8080/"
        }
      },
      "source": [
        "X_test = np.concatenate((vectorizer.transform(test['tokens']).toarray(), test[['len_tokens', 'len_sents', 'Reading_Time', 'stops', 'Image']].to_numpy()), axis=1)\n",
        "X_test.shape"
      ],
      "execution_count": 45,
      "outputs": [
        {
          "output_type": "execute_result",
          "data": {
            "text/plain": [
              "(54203, 1005)"
            ]
          },
          "metadata": {
            "tags": []
          },
          "execution_count": 45
        }
      ]
    },
    {
      "cell_type": "code",
      "metadata": {
        "id": "UkUn8T0NgUdH"
      },
      "source": [
        "y_train = train['Claps']\n",
        "y_test = test['Claps']"
      ],
      "execution_count": 46,
      "outputs": []
    },
    {
      "cell_type": "code",
      "metadata": {
        "id": "cB8hL4waioL-"
      },
      "source": [
        "from sklearn.model_selection import GridSearchCV, KFold\n",
        "from sklearn.linear_model import LinearRegression\n",
        "from sklearn.metrics import  f1_score\n",
        "folds = KFold(n_splits=4, shuffle=True, random_state=42)"
      ],
      "execution_count": 47,
      "outputs": []
    },
    {
      "cell_type": "code",
      "metadata": {
        "id": "idmZGvTAjKyx",
        "outputId": "b6b219da-6ed2-42de-cf05-d09eb0ecb65d",
        "colab": {
          "base_uri": "https://localhost:8080/"
        }
      },
      "source": [
        "cls = LinearRegression().fit(X_train, y_train)\n",
        "cls.score(X_test,y_test)"
      ],
      "execution_count": 48,
      "outputs": [
        {
          "output_type": "execute_result",
          "data": {
            "text/plain": [
              "0.013409791388980019"
            ]
          },
          "metadata": {
            "tags": []
          },
          "execution_count": 48
        }
      ]
    },
    {
      "cell_type": "code",
      "metadata": {
        "id": "3T2yA7Sbjdoq",
        "outputId": "6a1d3838-2f9f-4065-b380-ffea01ae93ef",
        "colab": {
          "base_uri": "https://localhost:8080/"
        }
      },
      "source": [
        "# Lasso = Linear Model trained with L1 prior as regularizer\n",
        "from sklearn import linear_model\n",
        "clf = linear_model.Lasso()\n",
        "clf.fit(X_train, y_train)"
      ],
      "execution_count": 49,
      "outputs": [
        {
          "output_type": "execute_result",
          "data": {
            "text/plain": [
              "Lasso(alpha=1.0, copy_X=True, fit_intercept=True, max_iter=1000,\n",
              "      normalize=False, positive=False, precompute=False, random_state=None,\n",
              "      selection='cyclic', tol=0.0001, warm_start=False)"
            ]
          },
          "metadata": {
            "tags": []
          },
          "execution_count": 49
        }
      ]
    },
    {
      "cell_type": "code",
      "metadata": {
        "id": "uw5JG6LLlByg"
      },
      "source": [
        "def scores(model):\n",
        "    print('Accuracy: ', round(model.score(X_test, y_test),4))\n",
        "    y_score = model.decision_function(X_test)\n",
        "    average_precision = average_precision_score(y_test, y_score)\n",
        "    print(f'Precision: {average_precision}')\n",
        "    y_pred = model.predict(X_test)\n",
        "    recall = recall_score(y_test, y_pred)\n",
        "    print(f'Recall: {recall}')\n",
        "    f1 = f1_score(y_test, y_pred)\n",
        "    print(f'F1 score: {round(f1,4)}')"
      ],
      "execution_count": 53,
      "outputs": []
    },
    {
      "cell_type": "code",
      "metadata": {
        "id": "Yy8x_JTilNV6",
        "outputId": "03bb4428-c95c-4a5a-a04f-290a5fc22b6b",
        "colab": {
          "base_uri": "https://localhost:8080/"
        }
      },
      "source": [
        "print('Accuracy: ', round(clf.score(X_test, y_test),4))"
      ],
      "execution_count": 55,
      "outputs": [
        {
          "output_type": "stream",
          "text": [
            "Accuracy:  0.0099\n"
          ],
          "name": "stdout"
        }
      ]
    },
    {
      "cell_type": "markdown",
      "metadata": {
        "id": "RXnM-6_WbfSa"
      },
      "source": [
        "# Блок 3: Paraphrase Detection (до 8 баллов)\n",
        "\n",
        "\n",
        "* [Статья по русскоязычному корпусу парафразов](https://www.aclweb.org/anthology/2020.ngt-1.6/)\n",
        "* [Еще статья](http://www.dialog-21.ru/media/3928/loukachevitchnvetal.pdf)\n",
        "* [Сайт корпуса](http://paraphraser.ru/)\n",
        "\n",
        "Отформатированные данные можно скачать [здесь](https://yadi.sk/d/OIgbnRA6OVJ4VQ)\n",
        "\n",
        "\n",
        "1.   Эксплоративный анализ данных (1 балл)\n",
        "2.   Поиск гиперпараметров, минимизация переобучения (2 балла)\n",
        "3.   Аугментация данных (1 балл)\n",
        "4.   Сравнение качества моделей, выбор наилучшей (1 балл)\n",
        "5.   Конструирование текстовых признаков (2 балла)\n",
        "6.   Анализ ошибок (1 балл)\n",
        "\n"
      ]
    },
    {
      "cell_type": "code",
      "metadata": {
        "id": "-C5L61FqPqIf"
      },
      "source": [
        "import pandas as pd"
      ],
      "execution_count": null,
      "outputs": []
    },
    {
      "cell_type": "code",
      "metadata": {
        "id": "VzUZDa-tbvaH",
        "outputId": "893fd9bc-4f58-4c5b-fcfc-43b1d5009406",
        "colab": {
          "base_uri": "https://localhost:8080/",
          "height": 136
        }
      },
      "source": [
        "data = pd.read_csv(\"/content/paraphrases.tsv\", sep=\"\\t\")\n",
        "data.head(3)"
      ],
      "execution_count": null,
      "outputs": [
        {
          "output_type": "execute_result",
          "data": {
            "text/html": [
              "<div>\n",
              "<style scoped>\n",
              "    .dataframe tbody tr th:only-of-type {\n",
              "        vertical-align: middle;\n",
              "    }\n",
              "\n",
              "    .dataframe tbody tr th {\n",
              "        vertical-align: top;\n",
              "    }\n",
              "\n",
              "    .dataframe thead th {\n",
              "        text-align: right;\n",
              "    }\n",
              "</style>\n",
              "<table border=\"1\" class=\"dataframe\">\n",
              "  <thead>\n",
              "    <tr style=\"text-align: right;\">\n",
              "      <th></th>\n",
              "      <th>text_1</th>\n",
              "      <th>text_2</th>\n",
              "      <th>class</th>\n",
              "    </tr>\n",
              "  </thead>\n",
              "  <tbody>\n",
              "    <tr>\n",
              "      <th>0</th>\n",
              "      <td>Совет юстиции Бразилии легализовал однополые б...</td>\n",
              "      <td>Совет юстиции Бразилии разрешил однополые браки.</td>\n",
              "      <td>1</td>\n",
              "    </tr>\n",
              "    <tr>\n",
              "      <th>1</th>\n",
              "      <td>\"Магнит\" поручится перед \"Абсолют Банком\" за к...</td>\n",
              "      <td>Выпуск сигарет в России упал из-за антитабачно...</td>\n",
              "      <td>-1</td>\n",
              "    </tr>\n",
              "    <tr>\n",
              "      <th>2</th>\n",
              "      <td>ЕС призвал США не бомбить Сирию до публикации ...</td>\n",
              "      <td>Евросоюз призвал США дождаться доклада ООН по ...</td>\n",
              "      <td>-1</td>\n",
              "    </tr>\n",
              "  </tbody>\n",
              "</table>\n",
              "</div>"
            ],
            "text/plain": [
              "                                              text_1  ... class\n",
              "0  Совет юстиции Бразилии легализовал однополые б...  ...     1\n",
              "1  \"Магнит\" поручится перед \"Абсолют Банком\" за к...  ...    -1\n",
              "2  ЕС призвал США не бомбить Сирию до публикации ...  ...    -1\n",
              "\n",
              "[3 rows x 3 columns]"
            ]
          },
          "metadata": {
            "tags": []
          },
          "execution_count": 29
        }
      ]
    },
    {
      "cell_type": "code",
      "metadata": {
        "id": "2CuADLQdem9i",
        "outputId": "0ac63481-bc42-4d05-9971-185e8f1141c1",
        "colab": {
          "base_uri": "https://localhost:8080/"
        }
      },
      "source": [
        "data['class'].value_counts(normalize=True)"
      ],
      "execution_count": null,
      "outputs": [
        {
          "output_type": "execute_result",
          "data": {
            "text/plain": [
              "-1    0.604684\n",
              " 1    0.395316\n",
              "Name: class, dtype: float64"
            ]
          },
          "metadata": {
            "tags": []
          },
          "execution_count": 30
        }
      ]
    },
    {
      "cell_type": "code",
      "metadata": {
        "id": "EhfZ_VzVeyst",
        "outputId": "350cd7a4-5d16-42c0-b06b-7c62debe96ab",
        "colab": {
          "base_uri": "https://localhost:8080/"
        }
      },
      "source": [
        "sentence_1 = process(list(data.text_1)[5])\n",
        "sentence_2 = process(list(data.text_2)[5]) \n",
        "\n",
        "similarity = word_vectors.wmdistance(sentence_1, sentence_2)\n",
        "print(\"{:.4f}\".format(similarity))"
      ],
      "execution_count": null,
      "outputs": [
        {
          "output_type": "stream",
          "text": [
            "1.0546\n"
          ],
          "name": "stdout"
        }
      ]
    },
    {
      "cell_type": "markdown",
      "metadata": {
        "id": "LHiUVCTv7lq1"
      },
      "source": [
        "### В рамках эксплоративного анализа данных, попробуем посчитать векторное расстояние для обоих классов и построить график"
      ]
    },
    {
      "cell_type": "code",
      "metadata": {
        "id": "rW4t8V1YsIOo",
        "outputId": "3dd432fd-51b1-4b94-d291-bc77f96971d6",
        "colab": {
          "base_uri": "https://localhost:8080/"
        }
      },
      "source": [
        "from numpy import inf\n",
        "from tqdm import tqdm\n",
        "\n",
        "sim = []\n",
        "text_1 = list(data.text_1)\n",
        "text_2 = list(data.text_2)\n",
        "for i in tqdm(range(len(text_1))):\n",
        "  try:\n",
        "    sentence_1 = process(text_1[i])\n",
        "    sentence_2 = process(text_2[i])\n",
        "    similarity = word_vectors.wmdistance(sentence_1, sentence_2)\n",
        "    # if one of the documents have no words that exist in the Word2Vec vocab, float(‘inf’) (i.e. infinity) will be returned.\n",
        "    if similarity == inf:\n",
        "      sim.append(None)\n",
        "    else:\n",
        "      sim.append(similarity)\n",
        "  except NameError:\n",
        "    sim.append(None)\n",
        "\n",
        "data['similarity'] = sim"
      ],
      "execution_count": null,
      "outputs": [
        {
          "output_type": "stream",
          "text": [
            "100%|██████████| 8540/8540 [02:05<00:00, 68.02it/s]\n"
          ],
          "name": "stderr"
        }
      ]
    },
    {
      "cell_type": "code",
      "metadata": {
        "id": "fUPnUal0zcIR",
        "outputId": "ca4111f1-0ad3-4556-935d-e87c15e4419b",
        "colab": {
          "base_uri": "https://localhost:8080/"
        }
      },
      "source": [
        "# смотрим, есть ли NaN значения, и удаляем их\n",
        "\n",
        "for col_name in data.columns:\n",
        "    num_nan_values = len(data[data[col_name].isna()])\n",
        "    print(\"Number of NaN values in %s column is %d\" % (col_name, num_nan_values))\n",
        "    if num_nan_values > 0:\n",
        "        data = data.dropna(subset=[col_name])\n",
        "\n",
        "print()\n",
        "print(\"Total number of rows is %d\" % data.shape[0])"
      ],
      "execution_count": null,
      "outputs": [
        {
          "output_type": "stream",
          "text": [
            "Number of NaN values in text_1 column is 0\n",
            "Number of NaN values in text_2 column is 0\n",
            "Number of NaN values in class column is 0\n",
            "Number of NaN values in similarity column is 1798\n",
            "\n",
            "Total number of rows is 6742\n"
          ],
          "name": "stdout"
        }
      ]
    },
    {
      "cell_type": "code",
      "metadata": {
        "id": "nUMokUuxueB0",
        "outputId": "1037ed90-af3b-498e-fee0-554296baed6a",
        "colab": {
          "base_uri": "https://localhost:8080/"
        }
      },
      "source": [
        "sim_1 = data[data['class'] == 1]['similarity']\n",
        "sim_2 = data[data['class'] == -1]['similarity']\n",
        "\n",
        "print(len(sim_1),len(sim_2))\n",
        "data['class'].value_counts(normalize=True)"
      ],
      "execution_count": null,
      "outputs": [
        {
          "output_type": "stream",
          "text": [
            "2762 3980\n"
          ],
          "name": "stdout"
        },
        {
          "output_type": "execute_result",
          "data": {
            "text/plain": [
              "-1    0.590329\n",
              " 1    0.409671\n",
              "Name: class, dtype: float64"
            ]
          },
          "metadata": {
            "tags": []
          },
          "execution_count": 34
        }
      ]
    },
    {
      "cell_type": "code",
      "metadata": {
        "id": "or6B5UoWX9WL",
        "outputId": "d28e805a-bbac-4dc0-a1a9-a66caf12d74b",
        "colab": {
          "base_uri": "https://localhost:8080/"
        }
      },
      "source": [
        "print(sim_1.mean(),sim_2.mean())"
      ],
      "execution_count": null,
      "outputs": [
        {
          "output_type": "stream",
          "text": [
            "0.4433155406557328 0.9257151321079744\n"
          ],
          "name": "stdout"
        }
      ]
    },
    {
      "cell_type": "code",
      "metadata": {
        "id": "e9_bGs2PsA6t",
        "outputId": "206d82a1-9522-48f5-8256-44732d5dd4bf",
        "colab": {
          "base_uri": "https://localhost:8080/",
          "height": 282
        }
      },
      "source": [
        "t = [sim_1.mean(), sim_2.mean()]\n",
        "s = [1,-1]\n",
        "\n",
        "# Make a fake dataset:\n",
        "height = [0.4433155406557328, 0.9257151321079744]\n",
        "bars = ['Paraphrase mean distance', 'Non-paraphrase mean distance']\n",
        "y_pos  = [1,-1]\n",
        " \n",
        "plt.title(\"Mean distance between 2 docs of paraphrases and non-paraphrases\", fontsize=14)\n",
        "\n",
        "# Create bars\n",
        "plt.bar(y_pos, height, color = \"mediumseagreen\")\n",
        " \n",
        "# Create names on the x-axis\n",
        "plt.xticks(y_pos, bars)\n",
        " \n",
        "# Show graphic\n",
        "plt.show()\n",
        " \n",
        "\n",
        "# Как и ожидалось, на графике видно, что для парафраз векторное расстояние в два раза меньше, чем для других текстов "
      ],
      "execution_count": null,
      "outputs": [
        {
          "output_type": "display_data",
          "data": {
            "image/png": "[encoded data removed]",
            "text/plain": [
              "<Figure size 432x288 with 1 Axes>"
            ]
          },
          "metadata": {
            "tags": [],
            "needs_background": "light"
          }
        }
      ]
    },
    {
      "cell_type": "markdown",
      "metadata": {
        "id": "_S6WHIha7vTJ"
      },
      "source": [
        "###  Аугментация данных"
      ]
    },
    {
      "cell_type": "code",
      "metadata": {
        "id": "9IvCV04GSSmE",
        "outputId": "0ac7f1a4-2a20-41f7-d0a2-5b2155c80c72",
        "colab": {
          "base_uri": "https://localhost:8080/"
        }
      },
      "source": [
        "\n",
        "sentence = list(data.text_1)[14]\n",
        "print(sentence)\n",
        "print(augment_word2vec(sentence,model = word_vectors))"
      ],
      "execution_count": null,
      "outputs": [
        {
          "output_type": "stream",
          "text": [
            "Убийство московского чиновника в Орле было заказным.\n",
            "преступление нижегородского чиновника в белгороде было заказным\n"
          ],
          "name": "stdout"
        }
      ]
    },
    {
      "cell_type": "code",
      "metadata": {
        "id": "Wu09EnBiTV2g",
        "outputId": "d2909a95-720f-4245-cf1d-152bac8401ff",
        "colab": {
          "base_uri": "https://localhost:8080/"
        }
      },
      "source": [
        "text_1 = list(data.text_1)\n",
        "text_1_aug = []\n",
        "for text in tqdm(text_1):\n",
        "  text_1_aug.append(augment_word2vec(text, model = word_vectors))\n",
        "data['text_1_aug'] = text_1_aug "
      ],
      "execution_count": null,
      "outputs": [
        {
          "output_type": "stream",
          "text": [
            "100%|██████████| 6742/6742 [18:36<00:00,  6.04it/s]\n"
          ],
          "name": "stderr"
        }
      ]
    },
    {
      "cell_type": "code",
      "metadata": {
        "id": "wNCOGVypYAX3",
        "outputId": "4cdf8f14-5161-4a81-8d2b-d5df0aa718a0",
        "colab": {
          "base_uri": "https://localhost:8080/"
        }
      },
      "source": [
        "text_2 = list(data.text_2)\n",
        "text_2_aug = []\n",
        "for text in tqdm(text_2):\n",
        "  text_2_aug.append(augment_word2vec(text, model = word_vectors))\n",
        "data['text_2_aug'] = text_2_aug "
      ],
      "execution_count": null,
      "outputs": [
        {
          "output_type": "stream",
          "text": [
            "100%|██████████| 6742/6742 [17:05<00:00,  6.57it/s]\n"
          ],
          "name": "stderr"
        }
      ]
    },
    {
      "cell_type": "code",
      "metadata": {
        "id": "FpkJvAyjrKSW",
        "outputId": "d0806501-343b-400c-9537-1ca3a2f0bb3e",
        "colab": {
          "base_uri": "https://localhost:8080/",
          "height": 140
        }
      },
      "source": [
        "data.head(2)"
      ],
      "execution_count": null,
      "outputs": [
        {
          "output_type": "execute_result",
          "data": {
            "text/html": [
              "<div>\n",
              "<style scoped>\n",
              "    .dataframe tbody tr th:only-of-type {\n",
              "        vertical-align: middle;\n",
              "    }\n",
              "\n",
              "    .dataframe tbody tr th {\n",
              "        vertical-align: top;\n",
              "    }\n",
              "\n",
              "    .dataframe thead th {\n",
              "        text-align: right;\n",
              "    }\n",
              "</style>\n",
              "<table border=\"1\" class=\"dataframe\">\n",
              "  <thead>\n",
              "    <tr style=\"text-align: right;\">\n",
              "      <th></th>\n",
              "      <th>text_1</th>\n",
              "      <th>text_2</th>\n",
              "      <th>class</th>\n",
              "      <th>similarity</th>\n",
              "      <th>text_1_aug</th>\n",
              "      <th>text_2_aug</th>\n",
              "    </tr>\n",
              "  </thead>\n",
              "  <tbody>\n",
              "    <tr>\n",
              "      <th>0</th>\n",
              "      <td>Совет юстиции Бразилии легализовал однополые б...</td>\n",
              "      <td>Совет юстиции Бразилии разрешил однополые браки.</td>\n",
              "      <td>1</td>\n",
              "      <td>0.193815</td>\n",
              "      <td>комитет юстиции аргентины узаконивал лесбийски...</td>\n",
              "      <td>комитет юстиции аргентины разрешил лесбийские ...</td>\n",
              "    </tr>\n",
              "    <tr>\n",
              "      <th>1</th>\n",
              "      <td>\"Магнит\" поручится перед \"Абсолют Банком\" за к...</td>\n",
              "      <td>Выпуск сигарет в России упал из-за антитабачно...</td>\n",
              "      <td>-1</td>\n",
              "      <td>1.268759</td>\n",
              "      <td>магнит поручится перед брахман банком за ссуду...</td>\n",
              "      <td>производство сигареток в страны упал изза анти...</td>\n",
              "    </tr>\n",
              "  </tbody>\n",
              "</table>\n",
              "</div>"
            ],
            "text/plain": [
              "                                              text_1  ...                                         text_2_aug\n",
              "0  Совет юстиции Бразилии легализовал однополые б...  ...  комитет юстиции аргентины разрешил лесбийские ...\n",
              "1  \"Магнит\" поручится перед \"Абсолют Банком\" за к...  ...  производство сигареток в страны упал изза анти...\n",
              "\n",
              "[2 rows x 6 columns]"
            ]
          },
          "metadata": {
            "tags": []
          },
          "execution_count": 40
        }
      ]
    },
    {
      "cell_type": "markdown",
      "metadata": {
        "id": "s5KCpgUwfDKU"
      },
      "source": [
        "### Для конструирования текстовых признаков возьмем\n",
        "1. Количество предложений\n",
        "2. Количество токенов\n",
        "3. Количество стоп слов\n",
        "4. Количество сущностей\n",
        "5. IPM"
      ]
    },
    {
      "cell_type": "code",
      "metadata": {
        "id": "8Vz4hq29QW24"
      },
      "source": [
        "from razdel import tokenize\n",
        "\n",
        "def len_tokens(texts: list):\n",
        "  lens = []\n",
        "  stops = []\n",
        "  for text in texts:\n",
        "    tokens = list(tokenize(text))\n",
        "    tokens = [_.text for _ in tokens]\n",
        "    tokens = [x for x in tokens if x not in punctuation]\n",
        "    lens.append(len(tokens))\n",
        "    stop = [x for x in tokens if x in russian_stopwords]\n",
        "    stops.append(len(stop))\n",
        "\n",
        "  return lens, stops\n",
        "\n",
        "data['len_tokens_1'] = len_tokens(text_1)[0]\n",
        "data['len_tokens_2'] = len_tokens(text_2)[0]\n",
        "\n",
        "data['stops_1'] = len_tokens(text_1)[1]\n",
        "data['stops_2'] = len_tokens(text_2)[1]"
      ],
      "execution_count": null,
      "outputs": []
    },
    {
      "cell_type": "code",
      "metadata": {
        "id": "UmnyCNHpoe7L"
      },
      "source": [
        "from razdel import sentenize\n",
        "\n",
        "def len_sent(texts: list):\n",
        "  lens = []\n",
        "  for text in texts:\n",
        "    sent = list(sentenize(text))\n",
        "    sent = [_.text for _ in sent]\n",
        "    lens.append(len(sent))\n",
        "\n",
        "  return lens\n",
        "\n",
        "data['len_sent_1'] = len_sent(text_1)\n",
        "data['len_sent_2'] = len_sent(text_2)"
      ],
      "execution_count": null,
      "outputs": []
    },
    {
      "cell_type": "code",
      "metadata": {
        "id": "BzDZK3beppJU",
        "outputId": "2b9219a6-79b1-4463-f3f1-9e7545182959",
        "colab": {
          "base_uri": "https://localhost:8080/"
        }
      },
      "source": [
        "# Это оказалось не очень эффективно, так как почти все тексты по одному предложению\n",
        "data.len_sent_1.value_counts()"
      ],
      "execution_count": null,
      "outputs": [
        {
          "output_type": "execute_result",
          "data": {
            "text/plain": [
              "1    6738\n",
              "2       4\n",
              "Name: len_sent_1, dtype: int64"
            ]
          },
          "metadata": {
            "tags": []
          },
          "execution_count": 72
        }
      ]
    },
    {
      "cell_type": "code",
      "metadata": {
        "id": "v-Je4fhkru4U"
      },
      "source": [
        "!wget http://dict.ruslang.ru/Freq2011.zip\n",
        "!unzip -q '/content/Freq2011.zip'"
      ],
      "execution_count": null,
      "outputs": []
    },
    {
      "cell_type": "code",
      "metadata": {
        "id": "1vpyJut6sEvw"
      },
      "source": [
        "def build_dict(freq_dict_path):\n",
        "    freq = pd.read_csv(freq_dict_path, sep=\"\\t\")\n",
        "    freq_dict = dict(\n",
        "        zip(\n",
        "            freq[\"Lemma\"].tolist(), freq[\"Freq(ipm)\"].tolist()\n",
        "        )\n",
        "    )\n",
        "    freq_dict = {k: float(v) for k, v in freq_dict.items()}\n",
        "    return freq_dict\n",
        "\n",
        "\n",
        "freq_dict = build_dict(freq_dict_path=\"freqrnc2011.csv\")\n",
        "\n",
        "def ipm(text, freq_dict=freq_dict, morph=morph):\n",
        "    lemmas = []\n",
        "    for token in tokenize(text):\n",
        "        token = token.text\n",
        "        if token in punctuation:\n",
        "            continue\n",
        "        lemma = morph.parse(token)[0].normal_form\n",
        "        if not re.match(\"\\W+\", lemma):\n",
        "            lemmas.append(lemma)\n",
        "    return sum([True for w in lemmas if w in freq_dict and freq_dict[w] > 1]) / len(lemmas) if lemmas else 0"
      ],
      "execution_count": null,
      "outputs": []
    },
    {
      "cell_type": "code",
      "metadata": {
        "id": "OZUcRD8etEQO"
      },
      "source": [
        "data['ipm_1'] = [ipm(x) for x in text_1]\n",
        "data['ipm_2'] = [ipm(x) for x in text_2]"
      ],
      "execution_count": null,
      "outputs": []
    },
    {
      "cell_type": "code",
      "metadata": {
        "id": "yst-CBbPtRZ5"
      },
      "source": [
        "!pip install --quiet natasha\n",
        "\n",
        "import natasha\n",
        "import pandas as pd\n",
        "\n",
        "from natasha import (\n",
        "    Segmenter,\n",
        "    MorphVocab,\n",
        "    \n",
        "    NewsEmbedding,\n",
        "    NewsMorphTagger,\n",
        "    NewsNERTagger,\n",
        "    \n",
        "    PER,\n",
        "    DatesExtractor,\n",
        "    NamesExtractor,\n",
        "    MoneyExtractor,\n",
        "    AddrExtractor,\n",
        "\n",
        "    Doc\n",
        ")"
      ],
      "execution_count": null,
      "outputs": []
    },
    {
      "cell_type": "code",
      "metadata": {
        "id": "yGeDyQkI2Q0z"
      },
      "source": [
        "morph_vocab = MorphVocab()\n",
        "segmenter = Segmenter()\n",
        "emb = NewsEmbedding()\n",
        "morph_tagger = NewsMorphTagger(emb)\n",
        "ner_tagger = NewsNERTagger(emb)\n",
        "dates_extractor = DatesExtractor(morph_vocab)\n",
        "names_extractir = NamesExtractor(morph_vocab)\n",
        "money_extractor = MoneyExtractor(morph_vocab)\n",
        "addr_extractor = AddrExtractor(morph_vocab)"
      ],
      "execution_count": null,
      "outputs": []
    },
    {
      "cell_type": "code",
      "metadata": {
        "id": "HJKa7TKZ1tHU"
      },
      "source": [
        "from tqdm.auto import tqdm\n",
        "\n",
        "def preprocess_with_natasha(text: str) -> str:\n",
        "    doc = Doc(text)\n",
        "    doc.segment(segmenter)\n",
        "    doc.tag_ner(ner_tagger)\n",
        "\n",
        "    return len(doc.spans)\n",
        "\n",
        "data['len_ner_1'] = [preprocess_with_natasha(text) for text in text_1]\n",
        "data['len_ner_2'] = [preprocess_with_natasha(text) for text in text_2]"
      ],
      "execution_count": null,
      "outputs": []
    },
    {
      "cell_type": "code",
      "metadata": {
        "id": "KsUNVi95AXM0",
        "outputId": "af17f227-3bd1-401b-e2c4-8ea9e80dcad6",
        "colab": {
          "base_uri": "https://localhost:8080/",
          "height": 551
        }
      },
      "source": [
        "data.head()"
      ],
      "execution_count": null,
      "outputs": [
        {
          "output_type": "execute_result",
          "data": {
            "text/html": [
              "<div>\n",
              "<style scoped>\n",
              "    .dataframe tbody tr th:only-of-type {\n",
              "        vertical-align: middle;\n",
              "    }\n",
              "\n",
              "    .dataframe tbody tr th {\n",
              "        vertical-align: top;\n",
              "    }\n",
              "\n",
              "    .dataframe thead th {\n",
              "        text-align: right;\n",
              "    }\n",
              "</style>\n",
              "<table border=\"1\" class=\"dataframe\">\n",
              "  <thead>\n",
              "    <tr style=\"text-align: right;\">\n",
              "      <th></th>\n",
              "      <th>text_1</th>\n",
              "      <th>text_2</th>\n",
              "      <th>class</th>\n",
              "      <th>similarity</th>\n",
              "      <th>text_1_aug</th>\n",
              "      <th>text_2_aug</th>\n",
              "      <th>len_tokens_1</th>\n",
              "      <th>len_tokens_2</th>\n",
              "      <th>len_sent_1</th>\n",
              "      <th>len_sent_2</th>\n",
              "      <th>stops_1</th>\n",
              "      <th>stops_2</th>\n",
              "      <th>ipm_1</th>\n",
              "      <th>ipm_2</th>\n",
              "      <th>len_ner_1</th>\n",
              "      <th>len_ner_2</th>\n",
              "    </tr>\n",
              "  </thead>\n",
              "  <tbody>\n",
              "    <tr>\n",
              "      <th>0</th>\n",
              "      <td>Совет юстиции Бразилии легализовал однополые б...</td>\n",
              "      <td>Совет юстиции Бразилии разрешил однополые браки.</td>\n",
              "      <td>1</td>\n",
              "      <td>0.193815</td>\n",
              "      <td>комитет юстиции аргентины узаконивал лесбийски...</td>\n",
              "      <td>комитет юстиции аргентины разрешил лесбийские ...</td>\n",
              "      <td>6</td>\n",
              "      <td>6</td>\n",
              "      <td>1</td>\n",
              "      <td>1</td>\n",
              "      <td>0</td>\n",
              "      <td>0</td>\n",
              "      <td>0.833333</td>\n",
              "      <td>0.833333</td>\n",
              "      <td>2</td>\n",
              "      <td>2</td>\n",
              "    </tr>\n",
              "    <tr>\n",
              "      <th>1</th>\n",
              "      <td>\"Магнит\" поручится перед \"Абсолют Банком\" за к...</td>\n",
              "      <td>Выпуск сигарет в России упал из-за антитабачно...</td>\n",
              "      <td>-1</td>\n",
              "      <td>1.268759</td>\n",
              "      <td>магнит поручится перед брахман банком за ссуду...</td>\n",
              "      <td>производство сигареток в страны упал изза анти...</td>\n",
              "      <td>11</td>\n",
              "      <td>8</td>\n",
              "      <td>1</td>\n",
              "      <td>1</td>\n",
              "      <td>3</td>\n",
              "      <td>1</td>\n",
              "      <td>0.636364</td>\n",
              "      <td>0.750000</td>\n",
              "      <td>2</td>\n",
              "      <td>1</td>\n",
              "    </tr>\n",
              "    <tr>\n",
              "      <th>2</th>\n",
              "      <td>ЕС призвал США не бомбить Сирию до публикации ...</td>\n",
              "      <td>Евросоюз призвал США дождаться доклада ООН по ...</td>\n",
              "      <td>-1</td>\n",
              "      <td>0.393186</td>\n",
              "      <td>евросоюза призвал сшаотретей не разбомбить лив...</td>\n",
              "      <td>ес призвал сшаотретей ждать доклада совет::без...</td>\n",
              "      <td>10</td>\n",
              "      <td>8</td>\n",
              "      <td>1</td>\n",
              "      <td>1</td>\n",
              "      <td>2</td>\n",
              "      <td>1</td>\n",
              "      <td>0.500000</td>\n",
              "      <td>0.500000</td>\n",
              "      <td>4</td>\n",
              "      <td>4</td>\n",
              "    </tr>\n",
              "    <tr>\n",
              "      <th>3</th>\n",
              "      <td>Депо Московского метрополитена впервые перейде...</td>\n",
              "      <td>Частной компании впервые отдадут депо в москов...</td>\n",
              "      <td>1</td>\n",
              "      <td>0.687627</td>\n",
              "      <td>изделие нижегородского подземки воочию перейдё...</td>\n",
              "      <td>собственности фирмы воочию отдадут депо в ниже...</td>\n",
              "      <td>8</td>\n",
              "      <td>8</td>\n",
              "      <td>1</td>\n",
              "      <td>1</td>\n",
              "      <td>1</td>\n",
              "      <td>1</td>\n",
              "      <td>1.000000</td>\n",
              "      <td>1.000000</td>\n",
              "      <td>2</td>\n",
              "      <td>0</td>\n",
              "    </tr>\n",
              "    <tr>\n",
              "      <th>4</th>\n",
              "      <td>Два человека погибли в столкновениях между кур...</td>\n",
              "      <td>Один человек погиб при столкновении судов у бе...</td>\n",
              "      <td>-1</td>\n",
              "      <td>0.658243</td>\n",
              "      <td>два человека гибли в столкновениях между курдс...</td>\n",
              "      <td>один человек гиб при столкновении судов в бере...</td>\n",
              "      <td>9</td>\n",
              "      <td>9</td>\n",
              "      <td>1</td>\n",
              "      <td>1</td>\n",
              "      <td>3</td>\n",
              "      <td>2</td>\n",
              "      <td>0.888889</td>\n",
              "      <td>0.888889</td>\n",
              "      <td>1</td>\n",
              "      <td>1</td>\n",
              "    </tr>\n",
              "  </tbody>\n",
              "</table>\n",
              "</div>"
            ],
            "text/plain": [
              "                                              text_1  ... len_ner_2\n",
              "0  Совет юстиции Бразилии легализовал однополые б...  ...         2\n",
              "1  \"Магнит\" поручится перед \"Абсолют Банком\" за к...  ...         1\n",
              "2  ЕС призвал США не бомбить Сирию до публикации ...  ...         4\n",
              "3  Депо Московского метрополитена впервые перейде...  ...         0\n",
              "4  Два человека погибли в столкновениях между кур...  ...         1\n",
              "\n",
              "[5 rows x 16 columns]"
            ]
          },
          "metadata": {
            "tags": []
          },
          "execution_count": 109
        }
      ]
    }
  ]
}